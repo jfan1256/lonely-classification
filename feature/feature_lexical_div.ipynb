{
 "cells": [
  {
   "cell_type": "code",
   "execution_count": 2,
   "id": "2cdcc0e6-b271-4c61-b53c-53a66b8d33ef",
   "metadata": {},
   "outputs": [
    {
     "name": "stderr",
     "output_type": "stream",
     "text": [
      "[nltk_data] Downloading package punkt to\n",
      "[nltk_data]     C:\\Users\\weigfan\\AppData\\Roaming\\nltk_data...\n",
      "[nltk_data]   Package punkt is already up-to-date!\n"
     ]
    },
    {
     "data": {
      "text/plain": [
       "True"
      ]
     },
     "execution_count": 2,
     "metadata": {},
     "output_type": "execute_result"
    }
   ],
   "source": [
    "import pandas as pd\n",
    "import nltk\n",
    "import re\n",
    "\n",
    "from utils.system import *\n",
    "\n",
    "from nltk.tokenize import word_tokenize\n",
    "from lexicalrichness import LexicalRichness\n",
    "\n",
    "nltk.download('punkt')"
   ]
  },
  {
   "cell_type": "code",
   "execution_count": 3,
   "id": "843c27e4-caba-4865-bc0c-8cd0e2c74b0e",
   "metadata": {
    "scrolled": true
   },
   "outputs": [],
   "source": [
    "def calculate_ttr(text):\n",
    "    tokens = word_tokenize(text)\n",
    "    if len(tokens) == 0:  # Check for empty list of tokens\n",
    "        return 0  # Return 0 or another appropriate value for empty texts\n",
    "    types = set(tokens)\n",
    "    ttr = len(types) / len(tokens)\n",
    "    return ttr"
   ]
  },
  {
   "cell_type": "code",
   "execution_count": 4,
   "id": "a5c423f7-5ca6-4caf-bf87-de758193e52b",
   "metadata": {},
   "outputs": [],
   "source": [
    "data = pd.read_parquet(get_data() / 'clean_data.parquet.brotli')"
   ]
  },
  {
   "cell_type": "code",
   "execution_count": 5,
   "id": "e2bca7ff-0636-4c2a-be5a-0a8eae150217",
   "metadata": {},
   "outputs": [],
   "source": [
    "data['ttr'] = data['cleaned_article'].apply(calculate_ttr)"
   ]
  },
  {
   "cell_type": "code",
   "execution_count": 6,
   "id": "cd7c074f-41ec-41b6-be8a-374c3e03f30b",
   "metadata": {},
   "outputs": [],
   "source": [
    "data[['ttr']].to_parquet(get_data() / 'lexical_div.parquet.brotli', compression='brotli')"
   ]
  },
  {
   "cell_type": "code",
   "execution_count": null,
   "id": "6d2a7779-a2fc-475b-b310-a0deed3c56b3",
   "metadata": {},
   "outputs": [],
   "source": []
  }
 ],
 "metadata": {
  "kernelspec": {
   "display_name": "lonely",
   "language": "python",
   "name": "lonely"
  },
  "language_info": {
   "codemirror_mode": {
    "name": "ipython",
    "version": 3
   },
   "file_extension": ".py",
   "mimetype": "text/x-python",
   "name": "python",
   "nbconvert_exporter": "python",
   "pygments_lexer": "ipython3",
   "version": "3.10.13"
  }
 },
 "nbformat": 4,
 "nbformat_minor": 5
}
