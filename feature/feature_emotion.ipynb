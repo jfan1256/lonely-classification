{
 "cells": [
  {
   "cell_type": "code",
   "execution_count": 1,
   "id": "a76fff26-567b-4e01-8ac2-9284b39a0c48",
   "metadata": {
    "is_executing": true
   },
   "outputs": [
    {
     "name": "stderr",
     "output_type": "stream",
     "text": [
      "C:\\Users\\weigfan\\AppData\\Local\\anaconda3\\envs\\lonely\\lib\\site-packages\\tqdm\\auto.py:21: TqdmWarning: IProgress not found. Please update jupyter and ipywidgets. See https://ipywidgets.readthedocs.io/en/stable/user_install.html\n",
      "  from .autonotebook import tqdm as notebook_tqdm\n"
     ]
    }
   ],
   "source": [
    "import pandas as pd\n",
    "import time\n",
    "import re\n",
    "\n",
    "from utils.system import *\n",
    "\n",
    "from transformers import pipeline\n",
    "from transformers import AutoTokenizer, AutoModel\n",
    "from transformers import pipeline, BertTokenizer"
   ]
  },
  {
   "cell_type": "code",
   "execution_count": 11,
   "id": "fe061547-b0d7-4864-b46f-f03263c29fd4",
   "metadata": {},
   "outputs": [
    {
     "name": "stderr",
     "output_type": "stream",
     "text": [
      "The tokenizer class you load from this checkpoint is not the same type as the class this function is called from. It may result in unexpected tokenization. \n",
      "The tokenizer class you load from this checkpoint is 'DistilBertTokenizer'. \n",
      "The class this function is called from is 'BertTokenizer'.\n"
     ]
    }
   ],
   "source": [
    "def detect_emotion(text):\n",
    "    # Tokenize and truncate the text\n",
    "    inputs = tokenizer.encode(text, return_tensors=\"pt\", max_length=512, truncation=True)\n",
    "    # Decode to get a truncated string\n",
    "    truncated_text = tokenizer.decode(inputs[0], skip_special_tokens=True)\n",
    "    # Perform sentiment analysis\n",
    "    result = emotion_pipeline(truncated_text)\n",
    "    return result[0]['label']\n",
    "\n",
    "model_name = 'bhadresh-savani/distilbert-base-uncased-emotion'\n",
    "tokenizer = BertTokenizer.from_pretrained(model_name)\n",
    "emotion_pipeline = pipeline('sentiment-analysis', model=model_name)"
   ]
  },
  {
   "cell_type": "code",
   "execution_count": null,
   "id": "ca4aef6d-138f-4e69-b741-a3b18dce7979",
   "metadata": {
    "scrolled": true
   },
   "outputs": [],
   "source": [
    "data = pd.read_parquet(get_data() / 'clean_data.parquet.brotli')"
   ]
  },
  {
   "cell_type": "code",
   "execution_count": 14,
   "id": "70b72cdf-259b-45af-921a-8eb3c5b6bf9a",
   "metadata": {},
   "outputs": [
    {
     "name": "stdout",
     "output_type": "stream",
     "text": [
      "Total Time: 451.7161214351654\n"
     ]
    }
   ],
   "source": [
    "start_time = time.time()\n",
    "data['emotion'] = data['cleaned_article'].apply(detect_emotion)\n",
    "total_time = time.time() - start_time\n",
    "print(f\"Total Time: {total_time}\")"
   ]
  },
  {
   "cell_type": "code",
   "execution_count": 15,
   "id": "be4234da-81c4-46a3-9752-a502fa6b6efe",
   "metadata": {},
   "outputs": [],
   "source": [
    "unique_emotions = data['emotion'].unique()\n",
    "emotion_to_number = {emotion: i for i, emotion in enumerate(unique_emotions)}\n",
    "data['emotion_num'] = data['emotion'].map(emotion_to_number)"
   ]
  },
  {
   "cell_type": "code",
   "execution_count": 16,
   "id": "74c619ce-6535-45af-80fb-32f2dd29f036",
   "metadata": {},
   "outputs": [],
   "source": [
    "data[['emotion_num']].to_parquet(get_data() / 'bert_emotion.parquet.brotli', compression='brotli')"
   ]
  },
  {
   "cell_type": "code",
   "execution_count": 17,
   "id": "082773ab-c152-424c-b9af-41ddcbd5a07f",
   "metadata": {},
   "outputs": [
    {
     "name": "stdout",
     "output_type": "stream",
     "text": [
      "Done\n"
     ]
    }
   ],
   "source": [
    "print('Done')"
   ]
  },
  {
   "cell_type": "code",
   "execution_count": null,
   "id": "df98bf55-4ead-4a16-9600-f640d62f670f",
   "metadata": {},
   "outputs": [],
   "source": []
  }
 ],
 "metadata": {
  "kernelspec": {
   "display_name": "lonely",
   "language": "python",
   "name": "lonely"
  },
  "language_info": {
   "codemirror_mode": {
    "name": "ipython",
    "version": 3
   },
   "file_extension": ".py",
   "mimetype": "text/x-python",
   "name": "python",
   "nbconvert_exporter": "python",
   "pygments_lexer": "ipython3",
   "version": "3.10.13"
  }
 },
 "nbformat": 4,
 "nbformat_minor": 5
}
