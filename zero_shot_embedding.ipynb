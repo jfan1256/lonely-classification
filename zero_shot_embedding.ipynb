{
 "cells": [
  {
   "cell_type": "code",
   "execution_count": 55,
   "metadata": {
    "colab": {
     "base_uri": "https://localhost:8080/"
    },
    "executionInfo": {
     "elapsed": 19664,
     "status": "ok",
     "timestamp": 1689815845648,
     "user": {
      "displayName": "Raghav Aggarwal",
      "userId": "04371493702700305700"
     },
     "user_tz": 240
    },
    "id": "2bYHIJwSGEIn",
    "outputId": "b78b21e4-e020-4d44-eb1f-bd2c1530ab12"
   },
   "outputs": [
    {
     "name": "stderr",
     "output_type": "stream",
     "text": [
      "[nltk_data] Downloading package punkt to\n",
      "[nltk_data]     C:\\Users\\weigfan\\AppData\\Roaming\\nltk_data...\n",
      "[nltk_data]   Package punkt is already up-to-date!\n"
     ]
    }
   ],
   "source": [
    "import pandas as pd \n",
    "import ssl\n",
    "import nltk\n",
    "import re\n",
    "import time \n",
    "import numpy as np\n",
    "import warnings\n",
    "import matplotlib \n",
    "import torch\n",
    "\n",
    "from utils.system import *\n",
    "\n",
    "from transformers import AutoTokenizer, AutoModel\n",
    "from nltk.tokenize import sent_tokenize\n",
    "nltk.download('punkt')\n",
    "\n",
    "# To suppress all warnings\n",
    "warnings.filterwarnings(\"ignore\")\n",
    "warnings.filterwarnings(\"ignore\", category=DeprecationWarning)\n",
    "warnings.filterwarnings(\"ignore\", message=\"the specific warning message\", module=\"the_module\")"
   ]
  },
  {
   "cell_type": "markdown",
   "metadata": {},
   "source": [
    "### Functions"
   ]
  },
  {
   "cell_type": "code",
   "execution_count": 132,
   "metadata": {},
   "outputs": [],
   "source": [
    "# Function to split text into sentences\n",
    "def split_into_sentences(text):\n",
    "    # Correcting common abbreviations and numbers with periods to avoid incorrect splits\n",
    "    text = re.sub(r'\\b(e.g.|i.e.|etc.)\\b', lambda x: x.group().replace('.', ''), text)\n",
    "    text = re.sub(r'(\\d+)\\.', r'\\1', text)\n",
    "    # Tokenize the corrected text into sentences\n",
    "    return sent_tokenize(text)\n",
    "\n",
    "def get_bert_embedding(sentence):\n",
    "    # Tokenize the sentence and convert it to tensor\n",
    "    tokens = tokenizer(sentence, return_tensors=\"pt\", padding=True, truncation=True)\n",
    "    # Pass the tokens through the BERT model\n",
    "    with torch.no_grad():\n",
    "        outputs = model(**tokens)\n",
    "    \n",
    "    # Get the output representation of [CLS] token\n",
    "    cls_embedding = outputs.last_hidden_state[:, 0, :]\n",
    "    # Convert the PyTorch tensor to a NumPy array\n",
    "    cls_embedding = cls_embedding.numpy()\n",
    "    return cls_embedding[0]\n",
    "\n",
    "def cosine_similarity_matrix(embeddings, label_embedding):\n",
    "    # Normalize the label_embedding\n",
    "    label_norm = np.linalg.norm(label_embedding)\n",
    "    if label_norm == 0:\n",
    "        return np.zeros(len(embeddings))\n",
    "\n",
    "    # Normalize the review embeddings\n",
    "    embeddings_norm = np.linalg.norm(embeddings, axis=1)\n",
    "    valid_indices = embeddings_norm != 0\n",
    "\n",
    "    # Compute cosine similarity\n",
    "    cosine_sim = np.zeros(len(embeddings))\n",
    "    cosine_sim[valid_indices] = (embeddings[valid_indices] @ label_embedding) / (embeddings_norm[valid_indices] * label_norm)\n",
    "    return cosine_sim\n",
    "\n",
    "def zero_shot(embedding_data, embedding_col, labels):\n",
    "    print(\"Retrieving label embeddings...\")\n",
    "    data = embedding_data.copy(deep=True)\n",
    "    label_embeddings = [get_bert_embedding(label) for label in labels]\n",
    "    embeddings_matrix = np.stack(data[embedding_col].values)\n",
    "\n",
    "    print(\"Computing cosine similiarity with label embeddings...\")\n",
    "    for i, label_embedding in enumerate(label_embeddings):\n",
    "        print(\"Label: \", i)\n",
    "        column_name = f'cosine_sim_{i}'\n",
    "        data[column_name] = cosine_similarity_matrix(embeddings_matrix, label_embedding)\n",
    "    return data\n",
    "\n",
    "# Retrive largest and smallest cosine_sim_mean score for each article\n",
    "def get_max_rows(group):\n",
    "    max_row = group[group['cosine_sim_0'] == group['cosine_sim_0'].max()]\n",
    "    return max_row\n",
    "\n",
    "def get_min_rows(group):\n",
    "    min_row = group[group['cosine_sim_0'] == group['cosine_sim_0'].min()]\n",
    "    return min_row"
   ]
  },
  {
   "cell_type": "code",
   "execution_count": 112,
   "metadata": {},
   "outputs": [],
   "source": [
    "# Load the pre-trained BERT model and tokenizer\n",
    "model_name = \"bert-base-uncased\"\n",
    "tokenizer = AutoTokenizer.from_pretrained(model_name)\n",
    "model = AutoModel.from_pretrained(model_name)"
   ]
  },
  {
   "cell_type": "code",
   "execution_count": 114,
   "metadata": {
    "scrolled": true
   },
   "outputs": [
    {
     "name": "stdout",
     "output_type": "stream",
     "text": [
      "------------------------------------------------------------\n",
      "red streak girl. so uh yeah she seems pretty chill but i'm too shy to talk to her. i'm cool with my teacher so i was gonna ask for tht persons name but i'm too shy to do tht too ( afraid teacher is gonna think i like the person cause my teacher likes drama and makes assumptions like that daily) so i just sit in the back and draw her idk if rsg has seen them cause she passes by me multiple times during class but if she has she hasnt said anything bout it. is tht weird? i mean its not like i'm lewding them they wear a hoodie and a lot of chains stuff like that so thats wht i draw. sometimes i draw dresses but thats besides the point. idk y i have a hard time talking to people maybe i should start taking my anti anxiety meds again. i don't mind being alone but sometimes i want just want a physical pressensce there. i don't think i explained things well i never do tbh i don't say a lot but theres a lot to say so it comes out it like a bukake of words\n",
      "------------------------------------------------------------\n",
      "just wanna talk. i'm here to talk if you want\n",
      "------------------------------------------------------------\n",
      "how to get over jealousy of socially active friends? i have a decent amount of close friends that i talk to fairly often, but all of them have far more friends than i do and go to way more social outings. i pretend that it doesn't get to me but sometimes when i talk to them it's all i think about. what do i do? \n",
      "------------------------------------------------------------\n",
      "were all lonely people, right? saw a post on here that inspired me. i'm m22, and i'm ready to talk and get to know someone, specifically a girl. i like playing videogames, watching movies, and cuddling on the couch. i like to think i'm a good listener, but always trying to improve.  i love music. both listening to it and playing it. i love jazz, just beggining to learn from the real book on my piano, so if youre a jazz fiend. you probably know wayy more than me, lol. i love obsessing over stupid fandom bs. and i love listening to someone rant about their passion. sorry in advance if i bend your ear off about frank ocean. you can just message me if you want to get to know me. i would also just love the practice in talking to/flirting with women. if things go well, i might even give you my ig\n",
      "------------------------------------------------------------\n",
      "i hate my birthdaymy birthday is in two days and i have nothing to do and even if i did i have no one to do it with. no other day makes me hate myself and my piece of shit life more than my birthday. no other day is lonelier. but hurray to 20 years of loneliness i guess. \n",
      "------------------------------------------------------------\n",
      "i've made it back to feeling numb\n",
      "------------------------------------------------------------\n",
      "no escape no way to get away for awhile. no escape no way to get away for awhile this mental abuse/emotional abuse is hurting me sitting in bathroom crying why can't i have enough money to get away maybe i'm not good enough i'm trapped and lonely why do bad things happen to me i feel so alone ? ? \n",
      "------------------------------------------------------------\n",
      "a thanks to this community! i just wanted to say thank you to everyone who has reached out to me and everyone active in this community! i wish i was able to talk to every soul on here that's going through a tough time or feeling down! if you come across this please feel free to reach out! hope everyone has a great day! \n",
      "------------------------------------------------------------\n",
      "move in with me. move in with me.  i'm lonely.  we can watch television together.  we'll laugh at people who make funny observations.  when you get hungry, i'll make you food.  you'll say,  man, i could go for and i'll make it.  i'll put little pieces of glass in the food.  your mouth will flood with blood.  you'll tell me something that happened to you during the day and every word will sound pathetic coming through your swollen and cut lips and tongue.  i'll say,  don t talk with your mouth full, it makes you look impolite.  you'll put your head in my lap after we eat and i'll put my hands over your face and touch it.  my hands will feel heavy on your face.  you'll get really uncomfortable and ask to take a shower to clean the feeling off.  we'll take a shower together and i'll pinch your ass.  you'll laugh.  i'll let myself slip to the floor of the shower.  the water will roam your back and slip from your ass and hit me in the face.  i'll drink the water before it enters the drain.  there will be a lot of hair clogging the drain.  i'll take it out and put it on my lips like a goatee and i'll act like a middle-aged man who has a goatee.  i'll wear sandals and a shirt that says the name of a town in mexico.  i'll kiss you on the lips with my goatee.  when you leave the shower, you'll turn the faucet to cold and my heart will hiccup.  i'll feel afraid.  i'll follow you into my room.  while you're toweling off, i'll lock the door and say,  pray to your god, it's time to suffer.  i want to make you level-eyed with my nightmare.  then i'll pause before saying,  just kidding.  i'll jump on the bed naked.  you'll say,  your balls look funny.  i'll say,  like  family circus'funny or what?  then we'll have sex.  when we're done, i'll clean myself off with some tissue paper and the tissue paper will stick to me.  i'll hop around the room like a white-tailed deer.  you'll put on an orange coat and paint your face with camouflage.  you'll say,  come here little deer, i won't hurt you.  then you'll shoot me in the neck and there will be a huge hole in my neck and the blood will leak into my throat.  and we'll sit back down, because between every action there is quiet.  \"paint my toes,  you ll eventually say, your voice sounding way too loud against the quiet.  i'll hold your feet in my hands and paint your toes.  i'll feel like crushing the bones.  i'll say, \"you have nice feet, would you mind if i crushed them with a hammer or a dumbbell.  you'll laugh and ask me to turn off the lights so we can sleep.  i'll turn off the lights and lie down next to you.  you'll fall asleep faster than me and it will rain.  the rain will beat the window.  i'll open the window and hold out a glass.  when the glass is full, i'll drink it.  i'll put on some of your lipstick and spit all over my groin.  i'll kiss the wall and punch the lipstick stain.  i'll feel like obliterating myself.  i'll feel like going outside and drowning in a puddle.  just lying down and resting.  i'll put some old leaves underneath my eyelids.  and the weight of the sky wil crush me into rest.  i'll wish for this in painful quiet.  in the painful quiet i'll wish for you to wake up so i won't be alone.  but you'll sleep and i'll wait, hoping to be relieved'if only for a second'of the mounting weight that wipes its feet at my door every night. \n",
      "------------------------------------------------------------\n",
      "i don't know where else to go so i chose herei grew up with really bad trust issues. my father was never in my life. like he lived with me for 8 years but i just. . never connected with him. he was a drugatic and abusive to my mother and i. he told me he loved me and i believed him, until i found out he just doesnt love me. he never called me, he never texted me. i went into a cycle that i think he wants to be in my life and he promises to call me tomorrow and he never does, then i bawl up all my emotions and go into a really bad meltdown. at some point i decided he just doesnt care about me and if he does then he wouldve remembered those 100 times he promised to call me back or text me back. since then i just havent been able to connect with people the way i want to. i cant trust them with my feelings, i cant trust them with my thoughts- anything. because of my father i have ptsd. i cant sleep, loud noises make me go into an anxiety attack, all of the above. because of my ptsd i lash out, i've never used it as an excuse til this moment. i apologize right after because i realize my mistakes and sincerely didnt mean it. my girlfriend thinks i want to break up with her because i have trouble trusting her. in my mind i have every right to not trust her. shes gone behind my back multiple times to smoke when i told her if she continues smoking i will break up with her when shes promised me countless times shell stop. i don't believe her when she tells me she loves me and i'm scared to tell my thoughts in fear shell laugh and tell me theyre stupid.i feel so by myself. she says that i can trust her, that she trust me so why cant i do the same with her. she says she tells me everything so i should do the same. my mother isn't any help with my problems with loneliness. instead of finding the source shell find alternative ways to fix the problem. shell go onto facebook groups and say that i like need to get out the house or smth. she says my problems are in my head and if i wanted  to get rid of the thoughts i just do it, she said i'm not working hard enough to fix them. #x200b;sorry for the lengthy post i just needed to vent in a place where people could relate. \n",
      "------------------------------------------------------------\n",
      "i feel alone. if anyone wants to chat or something i don't know\n",
      "------------------------------------------------------------\n",
      "looking for help, from fellow lonely people. hey there guys and gals. so, the past year and a bit has been more than very rough on me. . i came to a lot of realizations that a lot of people that surround me are just using me for their own good and they don't really care about me that much. at first it hurt really bad, but you know, as the days went by i just understood that well. . it's just how it is, and for a long time i was okay with the fact that i am completely alone and i don't have any friends, but for the past few weeks it really started to hit me. the thing is, when i was a teenager (now i am 23) i was always surrounded by people, everyone were inviting me to hang out and i just got used to being around people all the time, thus now it's getting more and more difficult day-by-day, as i don't even remember when i had a conversation with a person which i can trust. . #x200b;now i am writing with a reason. i need your help, people. i know that there are a lot of people who are feeling lonely, but i feel that there are a lot of kind humans that overcame the loneliness and they are doing a lot better, even if they are completely alone. i need your advice, i finally want to fight this terrible feeling, but i am completely lost and i don't know where should i start. i tried to search for a solution everywhere but you know, i got mostly basic answers such as \"join some sort of a class, get a new hobby and all that stuff\" but these things won't really help, and i know that for a fact, as i have a fairly decent job, with colleagues that i can chat with for hours, but that's not the thing i wish for. . i wish to have at least one true friend, which i could trust, and these things are not that simple, as you can't build a friendship in one day, and all my old pals are long gone from my life. so i am in a search for a way to overcome that urge to have at least one friend, and that's why i am asking for your help. #x200b;so, the question: what is the best way to overcome loneliness? please share your ideas, experiences and suggestions if you can. i know that i won't find a solution here, as every human being is living out a different situation, but i want to start somewhere. after many hours (days/months) of thinking and settling down everything in my head, i am completely fine with the fact that i don't have any friends, but that feeling of emptiness is hurting me so bad, that it is fairly difficult to ignore it. thank you all who will take a minute to give their ideas, i appreciate you all. \n",
      "------------------------------------------------------------\n",
      "i wish no one would have the same pain that i've had. my life is full of being teased and blocked, ghosted, humiliated, pressed by others. my mind is so weak to bear all of these. and yes it has given me lots of stress. sometimes i rams my head to the wall, and once i scratched my wrist hard with my fingernail. i'm controlling myself not to commit something bad rn. but it becomes harder these days. . it's just too hard and painful. i wish everyone in this sub will be cured soon. \n",
      "------------------------------------------------------------\n",
      "this is the worat time of the year. every year. this time is where i'm at my lowest, december is basically one long holiday, and me having a lot f time off is actually kinda bad, i mean, it's just a lot of time off where i'm doing nothing, and that just leads to me feeling lonely and sad\n",
      "------------------------------------------------------------\n",
      "i have never been in a relationship. i'm male 23 and i was never in a real relationship. there were some flings here and there, but nothing really concrete. i don't know what its like having someone special (other than family members) in your life. i am completely baffled how some people are dating 3, 4 years. and sometimes even longer. lol i can't even keep a friend for that long. every time i tried getting into a relationship, i failed miserably. i think i spent most of my time in high school trying to impress or get some girl. i mean again there were something here and there but nothing really solid. idk does anyone else feels this way? \n",
      "------------------------------------------------------------\n",
      "now i feel like it's my turnnan\n",
      "------------------------------------------------------------\n",
      "i appreciate  i m here if you need me.  but i don't think i'd be feeling this way they were here in the first place. nan\n",
      "------------------------------------------------------------\n",
      "nothing to do. i am 19 y/o i am a university student, my life is empty as freak i do nothing the whole day now it's my vacation so i stay at home all the time just watching random videos on you. tube or something. people around me say that i need to get out and socialize but they don't understand that i can't just go outside and ask people to be friends with me. i am in a very bad part of my life. \n",
      "------------------------------------------------------------\n",
      "i just woke up. just get up from my bed, sat on the edge of the bed and. i feel powerless, usless, sad, just feels like losing my life. it is like this almost every day. anybody else has same think happened to him? \n",
      "------------------------------------------------------------\n",
      "what did i do? so back in october i decided to take a break from alcohol.  major binge drinker here.  i'm super proud of myself for sticking with it but some things that have happened because of quitting have me super sad and depressed.  i feel like all my friends have stopped talking to me.  no one invites me places and i can be around people drinking and have just as much fun.  found out yesterday that a bunch of people i hung around went camping and i wasn't invited.  maybe i wasn't as well liked as i thought.  or maybe it has nothing to do with me but damn i feel like my heart is broken.  i've always struggled with friendships.  i've got alot of anxiety and i don't process emotions very well.  mine and other people's.  any advice?  i'm not going to drink just to keep fun friends.  i'll hang with myself and my boyfriend if that's the case. \n",
      "------------------------------------------------------------\n",
      "vibing late at night listening to music. i live in ireland and its about 5am, i actually slow danced to \"fly me to the moon\" earlier on my own. yeah life isn't exciting right now. i've seen a lot of lonely people here. if you need a friend i'm here for you. hope everyone powers through. \n",
      "------------------------------------------------------------\n",
      "24m :: hitman for hire! you're looking for someone who can erase another person from existence? woah, you're bad. . i like your style. regardless, i'm a 24 year old from north carolina. born and raised in new jersey, ended up down here for work! previous military and currently a first responder. i'm sure i'll received mixed reviews regarding my career, that's inevitable. i'm a simple and shy individual, which means shorter responses until i'm comfortable. once we're a few questions deep and conversations become interesting, it's smooth sailing!hobbies and interests of mine include; anything involving the outdoors, working on and riding my motorcycle (i'm a harley fan), and i'm slowly picking up video games (original, i know) once again. i'll include a picture of me, in case you're curious. please return the favor when messaging me!  co/t4wh. t39\n",
      "------------------------------------------------------------\n",
      "how can i spend christmas alone? considering i can't go see my family and i live in a different country to work, all of my friends are going home even during coronavirus so what can i do?volunteering? \n",
      "------------------------------------------------------------\n",
      "my friend makes me feel lonely. or rather they remind me how lonely i am.they live with her parents, her sister, her fiance and shes got a best friend who goes to the same work as her. all people who love her.i feel so alone. \n",
      "------------------------------------------------------------\n",
      "expression #x200b;1. **expression**    1. **don't be uptight/inexpressive. ** confidence, rhythm, charm are intertwined.    2. **this is a performance. ** think about performance like singing or dancing. any performance is an extrapolation of your internal state. voice, body language, dress, attitude.    3. **nobody will judge you if you are expressing yourself congruently. ** things that might be totally bizarre coming from one person could be the best, most unique things about another person. all that matters is that it's coming from a 5 place of congruence, as opposed to seeking validation. all charisma comes from within. it's already inside of you; it's just a matter of removing that which stifles it. now for those who are interested in learning social skills, i think the best way to learn social skills from a mentor. i have personally been learning and practicing social skills for 6 years and have been teaching social skills for about 1 year. if you're interested in learning social skills then i would highly recommend you sending me a dm. \n",
      "------------------------------------------------------------\n",
      "she's everything to meloving her was a huge change in my life. i was a porn addict. all what i was thinking about was nudes and porn and shit like that. after i knew he everything suddenly changed. i started gradually forget about porn and stuff. now i love her so much that i even started to hate porn completely. but unfortunately we can't be together. some people wasn't meant to be loved\n",
      "------------------------------------------------------------\n",
      "its not that i want friends, i'm just incredibly bored and totally aimlessmoney is a funny thing, you say you don't care about it and yet you keep saving it and you get scared if it goes below a certain percentage. this is all so stupid. money for the sake of money is the main driver behind all of my actions. i havent had friends in a over a decade and i'm not sure i want them anymore either. i have never had interest in having a relationship or sex. i don't understand what else is there for me to care about. i do try to be positive, even if it doesnt seem like it, i'm thankful for being healthy and able bodied but the aimless wont go away and it gnaws.what the fuck happenned in the course of history that made the one and most important purpose in reality to amass the greatest amount of materials before you die?why do i even keep working? what is a career and why should i want one? why did i wake up today and not yesterday? why do i do all these things that don't give satisfaction and are the consequences of not doing them really that bad or is it the people around me who are going to punish me? how many of these people do i have to kick out of my life before i begin to struggle to survive? i don't want to be homeless and starve that much i know. how terrible for life to be reduced to a stick and no carrot\n",
      "------------------------------------------------------------\n",
      "the late nights get harder and harderman i know covid isn't helping this for anyone, but at least for me in particular this shit is really hitting hard, especially for me and others who are in the online college situation, i don't see anyone, and its so isolating, not that being at a college in person would help anyways since i'm so antisocial and shy. but being alone every night is hurting, especially since both of my siblings and cousins around me are all fulfilling their lives with partners and happy. i feel so envious seeing them around or at gatherings, it doesn't help either when i'm asked if i'm seeing anyone or how long i've been single every time i see family. i cant help but long for a girl asking how i'm doing at night, even just simple questions like if i ate today or something. unfortunately i'm just alone every night. i have friends and i love them, but friends don't fill that void for companionship. \n",
      "------------------------------------------------------------\n",
      "i feel like i have nothing. over the past few days i have just felt so lonely that i feel physically sick. i don't even know why. i have friends but i don't even really go out with them. i have tried to make plans but they don't seem motivated. one of the only people i could consider a best friend also recently got into a relationship. this probably sounds very toxic but for some reason i'm very jealous. i don't want to be, i want to be happy for him because he deserves it. i think it's because the lack of physical or verbal contact i have with people. \n",
      "------------------------------------------------------------\n",
      "i thought of myself for once, which apparently makes me the worst person that has ever lived. nan\n",
      "------------------------------------------------------------\n",
      "can annoying people ever make friends? i'm very annoying. i talk and laugh too loudly, i send way too many texts, i say what i think, i can't let arguments go and stop, i have weird interests that no one cares about and if they do i'll talk to them about it until they don't anymore. my voice is so loud that it's disrespectful for me to even talk in public because it disturbs people around me no matter how hard i try to be quiet. everyone i've ever known well has said i'm difficult to be around (that's a lot of people). i've never had any friends and i don't think i ever can because of this problem. i will never change myself just to be acceptable to other people, i couldn't if i wanted to, but having no friends is depressing and lonely and it doesn't matter how much i socialise or how many mutual interests i have with people i still never make any friends. it seems really bleak and depressing. if i'm not going to make any friends in my life i would rather be told that now instead of living with false hope. i know some people out there would get on with me but i'm genuinely too annoying to most people i'll ever meet. does anyone honestly think it's realistic for someone like me to ever make friends? \n",
      "------------------------------------------------------------\n",
      "i'm in a weird placei want to talk to someone but i don't because i don't think i'll be able to keep it going on. this whole last week went by in a snap even though i didn't do anything. i feel like i'm wasting my time. i'm severely depressed and always tired which makes everything 10x times harder. oh well. \n",
      "------------------------------------------------------------\n",
      "vent  there's probably no point to this, and i'll probably delete this post, but for this moment at least i have to spill my thoughts out.  i'm fucking dying from loneliness, isolation, and boredom. for context, i do have social anxiety and while that has made me do extreme things at times (literally run out of a gym because they needed a picture of me), i'm basically functional. i'm in grad school and have a job. when i'm in those settings and have something to talk about, i can talk. there's other situations where i'm basically okay, but when it comes to just being conversational with a stranger for no reason, i can't do it.  not that any of that even matters. i have tried everything i can possibly do on my end of things to make friends and nothing has worked. the key word here is friends. i've never had much trouble finding a boyfriend (if you're an okay-looking girl and are on tinder, it's really not hard to find a dude who'll take the time to get to know you because he knows he'll get to smash in the end. women ignore me though--bisexual/lesbian dating is like pulling teeth. but i digress). anyway, point is, i have a boyfriend, and we're basically attached at the hip, but it's not enough. he's desperate for friends too, and i want him to have that. we both deserve connections outside of each other. but with the way things are going, we might as well be the last two people on earth surrounded by vaguely people-looking things that sometimes talk to us but never connect with us.   before anyone starts hitting me with some advice i've already heard 10 billion times, let me just list everything i've tried to make friends/treat my social anxiety in order to make friends. 1. tinder2. bumble3. okcupid (back in the day when it was cool) 4. a writing meetup group5. a social anxiety/depression meetup group (might've worked out but it disbanded after like 2 meetings)6. my college's lgbt club 7. my college's vegan club8. activism9. volunteer work10. staying in shape/dressing well/basically looking good so people won't treat me like a goddamn leper 11. talked to a random person at my college's stupid 'heyday' event12. going to coffee shops/bars/etc alone and hoping to christ that some person just fucking acknowledges i exist (best result: an old couple felt sorry for me at the bar and talked to me for about five minutes before leaving).13. meditation 14. journaling15. mindfulness16. religion/spirituality17. focusing on myself and my hobbies so i don't spiral into this exact mood i'm having right now oh wait too late 18. four different therapists19. three different medications 20. and a partridge in a fucking pear tree  i hear you asking \"why didn't any of those things work out\". well, i'm a psych grad so going to therapy is like watching a play except the lights never go down, so you can see all the set pieces moving and all the costume changes. i know what they're going to say to me, and it's all redundant and unhelpful. as for the meds, i don't know, i'm not a med person. they just didn't work.   the social stuff mainly boils down to living in a shitty fucking southern state in the year of our lord 2019 where no one looks up from their fucking phones, so even the people who aren't socially anxious don't know how to talk to anyone anymore, and even if they did talk to me, we'd have nothing in common because my beliefs are so radically different from everyone else's (except my boyfriend, the one person in the world who agrees with me on anything). i definitely don't fit in with the conservative majority, but i don't fit in with the liberals or anyone else either.   there are so many things i can't talk about with people or have no interest in talking about. like i can't talk about politics because of the aforementioned differences in beliefs (and i mean major differences, and no, i don't want to 'discuss our differences' because i've tried that shit and it just leads to arguments and i know no one's mind is going to change anyway so its a huge headache and waste of time).   i also can't talk about a lot of innocuous surface-level stuff because quite frankly, i don't care about the fucking office or game of thrones or snapchat or whatever the fuck everyone is so obsessed with. oh, just talk about my interests then? sure, let me bore you to death with my comparison of three different versions of victor hugo's *notre dame de paris*, and ooohhh you're already out the door. do i have any popular interests? sure, i'm into *star wars*, but probably not the way you're into it. how? oh, nothing, it's just the sequel trilogy is my favorite and----oh, bad opinion alert, off you go!   i'm trying to accept that all the love i'll ever have is between me and my partner. i know i'm lucky to even have that, and i shouldn't ask for anything more, but that doesn't stop me from crying at least three times a week because he's busy at work and i'm home alone with nothing to do and no one to see and nothing else to live for. i'm really not looking for advice here, because i seriously don't think there's anything left for me to try. i just wanted to spill my guts into the void and be angry and lame and feel sorry for myself, i guess. whatever. you can make fun of me if you want or tell me i'm being \"negative\". have at it. i don't care.   sorry you had to read this, if you made it this far. hope your life is going better than mine, that you have popular interests, popular opinions, and live somewhere cool where things happen and people aren't all carbon copies of each other constantly chanting \"it gets better\" with no proof that it actually does.   peace. \n",
      "------------------------------------------------------------\n",
      "for a brief moment i remember what it was like to have friends. it's been years. sometimes i start to miss it. but then most of the time i'm used to it because it's been my norm for so long. but it still somehow manages to eat at you once in a while. \n",
      "------------------------------------------------------------\n",
      "[13/f] littleloli i don't know why i here someone told me to join and use that [chat]new here  first one to message me gets my number i'm bored and can't fall back to sleep. anyone? i have wickr: dinonuggiez (7) i'm little agerei don't know what i'm doing to be honest. i'll probably just go back to sleep or i'll just delete this acount and app. it's dumb and i don't know how to use it correctly. i don't even know if anyone can see this .i'm sorry if anyone wants to talk i have discord or just say u want my number. i don't know. also i'll give you 20 free questions to ask me. anythingyou creepy people don't scare me. \n",
      "------------------------------------------------------------\n",
      "i hate this. i feel so bad about myself it's pathetici don't have time to be in a slump how do i put myself back together? i got out of a relationship 8 months ago and i still think about it everyday. i want someone to love me even though i can't find anything to live about myself\n",
      "------------------------------------------------------------\n",
      "a poem i wrote about my ex. \n",
      "------------------------------------------------------------\n",
      "i'm 25 with no friends, and never had a relationship due to social anxiety that i've had since childhood. i've been so depressed that it's hard for me to stay in a job, and focus on anything serious. i just want to have fun  be happy. i just want to feel like a human being. i don't think that i'll ever be happy. i don't think that there will be a happy ending for me. \n",
      "------------------------------------------------------------\n",
      "can i talk to someone? someone who i don't have to win over for them to care? (m18)i used to have a reddit account but i deleted it, now i'm back, because the loneliness hurts so much. i'd say i'm an introverted, sensitive guy, with severe depression. no one ever wants to talk to me, it's just me talking to them and them responding, that's how it always goes. i just want to talk to someone who cares and asks me questions and stuff like that. someone who actually wants to get to know me, and tells me about their day. that would make my day. \n",
      "------------------------------------------------------------\n",
      "i don't know what it is about me. \n",
      "------------------------------------------------------------\n",
      "he's talking with someone elseit's cool tho we can be friends but fucckkkkk now i don't feel good? ? \n",
      "------------------------------------------------------------\n",
      "ever get the feeling like you're a fish out of water? well i'm basically a fish born on land. i've always been the \"popular loner\" back in high school, everyone knows i exist mainly due to the fact i excel in every field, may it be sports, extra-curriculars, academics. . . i made sure i'm always at the top because i've been bullied and mentally tortured way too in middle school that i took it upon me to become a better person.things at home weren't going well either, my father was an abusive alcoholic and mother was too overprotective, almost suffocating me from doing anything. i'd been battling with depression for a long time, and i know i should have taken the meds but i never did.i had friends, but none of them were close nor did they invite me to join them in anything, i always felt left outnow fast forward to college, i've got into a really good college with all that hard work and effort in a place 1000 miles from home where i don't even speak the language.i honestly hate the people they are so rude, hate the culture, hate their music and movies but i try to adjust. i got my heartbroken by this girl right in the first semester and now the friends i had don't even bother talking to me. i haven't had someone i could call a friend for the past 3 years which eventually led me to a crippling drug addiction and a whole new degree of loneliness. i fight to survive day, waiting to get out of this place like as if it was hell.now imagine if you were me, knowing you have so much fucking potential but just so fucking unlucky that you chose the wrong place with the wrong people and you try everything in your power to fit in but just get neglected like you're a nobody, they say college is supposed to be the best years of your life but it certainly seems like it's the worst. .if anyone could just help, i'd really appreciate it. \n",
      "------------------------------------------------------------\n",
      "hey i'm new here. i just wanted to share something, i have already talked to my friends about this but i don't think they understand. so i was on a online relationship with a girl i met while playing xbox, we used to talk the entire time, text all the time, for me life was awesome at that point. couple of weeks passed and she doesn't reply like before so i think  maybe she's busy doing her stuff'just gonna wait ya know. i was getting worried, all my insecurities triggered like maybe she's with someone else or maybe she doesn't want to talk anymore, i was thinking a lot of stuff. i was suffering those days until i decided to break up with her, couldn't handle it. she said it was fine, that we should just be friends because she didn't have the time to talk to me like before (due to her job and school), main reason i'm posting here is that i got used to hanging with her the entire time, now i feel very lonely and empty. now even that we are just friends now i'm dying to be with her again and i also have desire to meet her one day. for now on i guess i'm gonna try to resist my depression. \n",
      "------------------------------------------------------------\n",
      "me\n",
      "------------------------------------------------------------\n",
      "looking for someone to talk tof16. does anyone want to talk. i'm feeling kind of down lately. \n",
      "------------------------------------------------------------\n",
      "a moment to breathe. can you lie to me? lie about everything, how i physically look, emotionally cope and mentally hold myself together. lie to me so i can feel how it feels to smile, acknowledged and loved. lie to me how much you love little things about me, how you wanna follow my gaze in a crowded place, how you wanna just be there for me with wanting anything. just lie to me in this night, this very moment. just lie and tell me that things are gonna find there way beautifully and it will all fall in place, even those it seems chaotic now, i will find my order. lie to me that i will be alright.i wanna feel what it's like to not feel spiral down the oblivion as the void stares me right in my eyes. \n",
      "------------------------------------------------------------\n",
      "happy holidays everyone, you all matter and you're all loved(: please keep pushing, there is light at the end! &lt; 3\n",
      "------------------------------------------------------------\n",
      "human connection? who is shemy best friend is someone i met online a few years back. they know everything about me and understand me so well and vice versa. i cherish them so much. i've never met them irl. my sister is probably the person i love most in this world, we are extremely different but love each other unconditionally and facetime every other day. she's also long distance. i only see her a few times a year maybe. these are my two closest relationships. my in-person interactions are not great. i'm terrible at talking to people. i'm awkward and stilted and serious. i don't know what to say. literally, nothing at all comes to mind except quick one liners of small talk where i'm not even present in the conversation. i feel like a robot. i hate it. i don't know if it's social anxiety or what, but i literally cannot be comfortable around people who haven't known me for a long time. i feel like i come off as aloof and unfriendly but really i'm just awkward and uncomfortable and quiet. what is even the point of being a human if i can't have genuine human connection? i feel like i'm a robot, just devoid of any personality. what is this? \n",
      "------------------------------------------------------------\n",
      "my decision\n",
      "------------------------------------------------------------\n",
      "advice for being alone/a loner in school? i lost all of my friends after moving. nobody talks to me, everyone is huddled in their friend groups and ignores me. any advice? also, don't tell me to make friends, i've given up as you can clearly see. \n",
      "------------------------------------------------------------\n",
      "i'm so depressed i don't know what to do with myself. wow, i feel like i'm at my lowest point, i'm hyperventilating as i type this. i've always been lonely from childhood (the miss-understood child with a toxic family and suicidal mom) so i left home (moved to a new country for a complete new start) in my teenage years (now in my mid twenties). i've just been traveling around a lot and it's so hard to keep genuine friendships (i have one best friend and we face. time everyday for hours but she has her own life too and she's in a different continent but she's the only person i can say genuinely loves and cares for me unconditionally). i'm really just rambling here.i've only been in one serious relationship in my (lasted 3 years) and it was the greatest form of love i've ever experienced and it has been so hard dating after that because i didn't want to settle for anything less than that.   for the past few years i've been doing fairly okay, always traveling, meeting new people, keeping busy as much as possible with school, work, hobbies etc however i recently moved to another country again for work, moved to a non-shared apartment by myself (i've never lived completely by myself before and as much as i love my own space, it is so lonely) and making friends hasn't been easy too with the language barrier, and the current pandemic. i decided to give online dating a try (i've always felt weird about it) and met someone i really connected with (or so i thought). i thought things were going great at first but he completely led me on. he's just using me for sexual gratification, and it hurts because i've fallen for him and want more than just that but know that's not going to happen! with the current lockdown he's the only human connection i can have atleast once a week but my feelings not being reciprocated makes me feel so empty and used and i should probably end things but i can't get myself to do it! i'm so sad and lonely it hurts so bad to the point where my body is aching. i'm even having suicidal thoughts because i don't know if i'll ever find true happiness and get over this feeling of loneliness. \n",
      "------------------------------------------------------------\n",
      "ps4 chat? i'm not particularly lonely myself right now but i thought it might be cool to talk about life.  34/m/usa\n",
      "------------------------------------------------------------\n",
      "whoever's reading this, i pray that one day you don't have to pretend to be happy anymore. i pray you find your purpose  no longer feel like your alone slowly drowning in the middle of the ocean. i hope that you find someone who brings light, joy,  life into your darkest days. nan\n",
      "------------------------------------------------------------\n",
      "i just want to be happy. it's as simple as that. i'm so alone i wonder why i even have a phone anymore. i can go all day without a single notification unless it's a spam email or weather. i have no one. \n",
      "------------------------------------------------------------\n",
      "it's never hurt this bad. this feeling of perpetual loneliness is not new but it has never hurt this much. i feel like i'm being physically weighed down and i'm not sure i can keep this up much longer. i want someone, whether it be a partner or just a friend, who i can be honest with. who i can tell my feelings and struggles to and they would truly care. i just want to be loved, as cringe as that might sound. i have never been in a relationship where the other person reciprocated that love. while this post reads like a person trying to garner sympathy from strangers, maybe it is, there is a reason love has always alluded me. the reason is me. i'm not optimistic or charismatic. i'm not intelligent or inspiring. i'm a quitter. i'm lazy. i'm a loser. i've come to the conclusion that i need to improve my myself in order to be loved, but it is more difficult that it sounds.  why would anyone love me when i cannot love myself? how do i begin to love myself when i cannot change? how much longer will life be like this? is it worth it? \n",
      "------------------------------------------------------------\n",
      "someone new came into my life then pushed me away. a while ago i gained a new freind and didn't feel nearly as alone, but now they have abandoned me for someone else and i don't really know what to do. they still sometimes text or talk to me, but for a much shorter duration and they don't seem too interested in anything i do or say. i just needed to say this to someone\n",
      "------------------------------------------------------------\n",
      "really feel like ending it. i've had a failed attempt before but i'm restraining from trying again. . \n",
      "------------------------------------------------------------\n",
      "i miss my piano. ! i always was a loner, and always music was the only friend until the end. at this moment, i moved abroad and i lost my last friend. now i see the support that it gave me, i will never forget the moments i passed with my piano, i love music. probably, music made me to feel less alone, but now it is just me and my ph. d. i hope that i will come back to music soon. \n",
      "------------------------------------------------------------\n",
      "i'm miserable because i don't have friends, and i don't have friends because i'm miserable. no one wants a sadsack friend who saps them of emotional energy \n",
      "------------------------------------------------------------\n",
      "i'm tired of being strong. i just need someone to hold me and be there for me.see i can fight all the problems in life. that's not the issue. the issue is that i can't do it alone. \n",
      "------------------------------------------------------------\n",
      "losing the wieght. so i'm sat in the gym, realising how far i've come. with no one in my life that cares. i am always alone. i hate how my life has turned out, i hate not being able to share stuff, the little things, with someone, anyone that actually cares about me. \n",
      "------------------------------------------------------------\n",
      "for all the lonely people that like harry potter. look up  dumbledore asked calmly'on youtube. its a twelve second video made by long john shlongson. ? ? \n",
      "------------------------------------------------------------\n",
      "feeling left out. due to the nature of my job a lot of my friends are from the south and unintentionally have a lot in common. i'm from a pretty large city in the north so i feel there's already a larger gap for me to cross. we are all stuck in a small town with not much to do locally besides a few bars. none of us are interested in outdoor activities because of how often our work forces us outside. leaving us with two options when we hang out playing video games and/or drinking. in the past year or so the amount i drink has taken a sharp decline and i'm not interested in the same games they are. i've realized that my friends only ask me if i want to hang out is when they wanna party. i know this is my own fault but i always say yes due to my own fomo. while we always have a good time, i do feel in the back of my mind like the odd one out no matter what combination of friends. i do not expect them to do whatever i want. this does leave me at a crossroads between being myself and toning down certain interests in order to fit in. my friends planned a trip to the nearest city and did not invite me, one of them did apologize, but it did not seem sincere. i gave it some thought and realized that there have been many times when i have caught them hanging out, going out to eat, or making plans without me. i never said anything because i didn't want to seem needy or that i didn't have other friends. while i do get alone with everyone pretty well, i really do not have many friends besides them. it is clear that i was more invested in our friendship than they were. i do want to hang out with them because they are all nice guys, but at the same time i do not want to hang out with people that only see me as a  drinking buddy and not a human being with interests and hobbies. i know this was long, but if you do read this thank you. it's a lonely friday night and i do not feel good about myself tonight. this has not been the first time that a friend group has left me out. i'm just feeling very lonely tonight is all. \n",
      "------------------------------------------------------------\n",
      "anyone else feel this? my life is going good. moderately balanced. but i'm not happy. keep getting depressed and feelings of anxiety for the smallest shit. i think it's because i'm alone. probably gonna live like this for the foreseeable future.anyone have ideas to just accept the fact i'm alone? \n",
      "------------------------------------------------------------\n",
      "if your healing is intentional and deep, old tension buried within you will have nowhere else to go but up and out. do not be surprised if your mind feels turbulent as the past you've been carrying for so long burns away. mental heaviness is common before you feel truly lighter. . \n",
      "------------------------------------------------------------\n",
      "missing meaningful relationships. so until recently, the last few months have been hell. i was severely depressed for different reasons, including loneliness. i really tore myself down with what i feel like is an identity crisis. i feel like i'm starting to come out of that, but unless i can turn this into actual change, i'm afraid it'll be for not. what i learned over the past few months is that my values have changed. i used to be ok with being a loner that just got by, playing video games or whatever. but now i realize that's not for me anymore. what i'm really missing are meaningful relationships and a meaningful use of my time. i'm 23, a senior in a university, but transferred from a community college last year. i've really struggled with making new friends since high school, and any friendships from then are basically nonexistent now. the one friend i've had along with me since, my best friend, seems to be growing distant. and he's the only one i've confided in about the stuff i've been going through.so i definitely get the feeling that i've probably scared him off. i even feel like i maybe made our friendship out to be more than it is. and now i feel like the one meaningful relationship i do have is quickly slipping away. i love him and always will, but i'm starting to feel like it might be time to move on, as much as it might hurt. i'm just not getting what i feel i now need from a relationship. \n",
      "------------------------------------------------------------\n",
      "my bed feels empty. idk why i'm feeling this way, maybe it just hit me how alone i have been the past 20 years. i hit it off with a nice girl and she spent the night and we had a great time and cuddled and it was really nice. the thing is when i sleep in my bed alone now i realize how alone i have been now and in the past. we may be a thing but she wants to take it slow. \n",
      "------------------------------------------------------------\n",
      "i have been lonely my entire life yet i didn't realize it even though it was always at the back of my mind. ignore the stupid u/ that i have. since i was a kid, i always wanted to have those friends who cared for you but i never did. all i did was call people i kinda knew \"friends. \" thanks to my mom, i always knew someone but not enough that they actually cared about me. i only ever had one friend and that's the guy who i still hang out and talk to. i met another friend and now i have an overall of two friends that might maybe care if i left. during quarantine, i see people do video chats and have fun and talk with people but i haven't done that, only when i needed for my class. i should probably post this in my alt account but i gave up. my mom has always tried and i've tried to talk to her but she refuses so i guess she doesn't try. she may be trying to try but i guess she fails. my girlfriend, the only thing i basically have to live for, has stuff to do so we don't talk much. even the people who i think might care about me don't even send me so much as a \"hi\" once a month. this whole quarantine, i've only talked to 5 people in dms and the rest don't even try. i hate ranting but i just needed to send this. i've never had anyone to share my shitty life with. i don't think i may have someone else apart from my girlfriend and even then, i don't want to burden her or spam her while she does more important stuff. i hate my irresponsible, sad, hateful, life but i don't want to die just yet. i just have to hold on to the fact that darkness is pure shit compared to this. at least i have reddit to keep me at least going somewhat kinda. \n",
      "------------------------------------------------------------\n",
      "does anyone still feel lonely even around family? even though i'm living with my grandma, my mom and brother i still feel lonely i guess because i haven't seen my friends yet it's been a year. \n",
      "------------------------------------------------------------\n",
      "does anyone relate? \n",
      "------------------------------------------------------------\n",
      "i've been here before in this state of mind\n",
      "------------------------------------------------------------\n",
      "not allowed to love. has anyone felt like they're just not allowed to find love? like the universe just doesn't put them in the right place at the right time? i don't want to ask a girl that i work with / at my job out. i don't want to have a workplace relationship. however i find this girl very attractive and would love to be with her. i only talk to her as an associate to keep our relationship professional for the better of both of us (unfortunate for me). just found out that she's with someone. someone who was lucky enough to be where the universe doesn't want me to be. the right time and the right place. i don't wish i was him. i just wish i was where he was when he talked to her instead of being where i unfortunately have to be. maybe me and her could've developed something. that would've been nice.  just another reason why i hate this job. i want out but the universe won't let me do that either. #x200b;this is usually the case for me. i can never be around a girl i'm attracted to at a place other than where it is unacceptable to even try approaching her as someone who wants to be in a romantic relationship with her. #x200b;a romantic relationship not a platonic one. there is a difference and i respect both. i like her romantically and not plantonically. nothing wrong with that. normal human behavior. \n",
      "------------------------------------------------------------\n",
      "i'm still lonely. my boyfriend is great but he doesn't act like my bf. he acts like a distant friend. he doesn't talk to me like he does his gaming friends. he only talks to me when there's nobody else to speak to. we can be together for weeks and i'd still feel lonely. its hard to bring it up because i confronted him many times but he doesn't change. its hard to leave because i love him and don't know what it'll be like anymore without him. when i think about this i feel so clingy but everyone else tells me it really is a problem. idk. \n",
      "------------------------------------------------------------\n",
      "needed a place to vent. i quit my job of two years not too long ago. it was a liquor store. young crowd, a lot of fun. i was a hard worker and had a solid sense of humor so i thought i fitted in well there.  i was good at the job, and was moving up. by far the owner's favorite employee. i'm also an alcoholic who's been diagnosed with clinical depression for some time. after a failed suicide attempt i knew i had to get back on my combination of anti-depressants. if any of you know much about those meds, you under no circumstances can drink with them. so i quit, for the betterment of my mental health. i haven't received one text message from the people i considered my closest friend group. the people i spent 40 hours a week for two years around. and it hurts, damnit it hurts like a mutha. i'm moved back in with my dad, and i'm in between jobs. i could go work at mc. donald's, or a private security company, but i'd rather not go back to a minimum wage job. i've been applying left and right but i guess two years of booze slinging isn't a selling point to employers.  god damnit i'm lonely. god damnit man. if you made it this far thanks for reading. *fist bump*\n",
      "------------------------------------------------------------\n",
      "i hate it. i don't get why everyone hates me. i haven't done anything bad. everyone just leaves me, rejects me, makes fun of me, and ignores me. i don't know why. no one has ever wanted to be my friend irl, no one has ever wanted to be my girlfriend, everyone just leaves me even when they say they won't. i just don't understand why everyone treats me this way. everyone else has friends and dates and spouses and because everyone treats me this way, i got no one. \n",
      "------------------------------------------------------------\n",
      "harry potter trivia anyone ? let's have a game. ask me a question about harry potter, i'll answer and ask you a question\n",
      "------------------------------------------------------------\n",
      "just got rejected by my guy friend. now i really have no one. all of my friends want nothing to do with me. my mom is abusive so i can't talk to her. the only person i could talk to was my guy friend but now he's annoyed of me to and doesn't want anything to do with me. stuck at home knowing i'm worthless unlovable and have no value. i even let everyone treat me like shit. i'm worthless. i've been rejected by every guy i liked so i don't have a bf to call. i'm so miserable. i just talk to myself now. visualizing myself being loved by someone. it kinda helps me. i'm in so much pain. i cry myself to sleep every night. my heart is numb and broken. i'm worthless. and a black girl so that doesn't even help things\n",
      "------------------------------------------------------------\n",
      "why cantget over her?been 6 years since we broke up, her feelings remained for me until late 2017, but now she has moved on. i even was in a few relationships after we broke up from 2016-2018, albeit crappy ones and i have not been in one since.but why cant i get over her no matter how hard i try? i suppose it might be because the relationship with her was the only point i waa genuinely happy in my life. but why? \n",
      "------------------------------------------------------------\n",
      "does anyone else make up stories in their head and can't stop? hey y'all,i just discovered this sub and after crying for 30mins straight after realizing how much i relate to all of you i started thinking about my loneliness and the first time i really noticed it. i told someone when i was about 7 years old, that i made up stories and worlds in my mind and played them out in my head before falling asleep, kind of like a goodnight story for myself. the other person just looked at me weird and laughed at me. she told others and they all made fun of me.the thing is, i still do this. i still make up a story for myself while trying to fall asleep. mostly the stories will be inspired by movies/series/books etc. i like to imagine myself being the well liked lead role or my own character who's liked by everyone in that imaginary scene. it makes me feel powerful and not so lonely anymore. due to corona my school is closed so i have a lot of time and lately i've noticed that i will take about 3-4 naps a day and set 5 alarms for after my \"big\" sleep so i can fall asleep multiple times. that way i can make up more stories instead of facing the hard truth that i'm lonely as fuck.so i guess my question is wether anyone else imagines scenes in their head as well and if anyone has tips for kind of getting control over it again?tl; dr:i make up stories before i go to sleep where i'm well liked and it's gotten to a point where i'll sleep multiple times a day just to imagine a scene in my head. does anyone else do this?does anyone know how i can stop this from deteriorating further? \n",
      "------------------------------------------------------------\n",
      "the current thought in my mind. . . ***\"don't worry you will find the best for you. . leave him; said my mind                                                          by leaving the best? asked my heart \"***\n",
      "------------------------------------------------------------\n",
      "my vibes. if you don't like watching general tv, enjoy a good story, like sitting by fires on cold days, hate violence and love genuine vibes. if you like photography, trevor daniels music, some of drakes older music eg. the song -best i ever had by drake-. chilled in your 20 to 29 years. enjoy a chilled long distance drive on the road with another person. love a quiet environment. also enjoy festivals with good food.we could be good friends. \n",
      "------------------------------------------------------------\n",
      "16/f does anyone want to be friends?hi my name is lexie um i don't really have friends because i have a disorder and i was wondering if anyone would wanna be my friend and help me through tough times \n",
      "------------------------------------------------------------\n",
      "can someone lend an ear? i need help, i have no one left. no one picks up my call. i'm trying to get sober, but then a couple of weeks go by, i spiral out or control, drink more, so drugs and go on a 4 day bender and crazy stuff usually happens.and i can't deal, i feel overwhelmed. please help someone\n",
      "------------------------------------------------------------\n",
      "for me the worst thing is the feeling of \"what if it never gets better? \"nan\n",
      "------------------------------------------------------------\n",
      "i don't feel like i belong anywhere. i don't fit in with my family. i don't fit in with people in my small home town. i don't fit in with the people in my high school. i don't feel at home with other people at all. i feel like no one really understands me. i've had the same friends since i was a child, but i don't even feel like i fit in with them anymore. sometimes i don't mind being more on my own, but i always see my friends and other people post videos and pictures of them hanging out in groups and having fun. there's no point in being there with them cause i just get all socially anxious and can't participate, but i feel jealous and alone when i'm not there and it sucks. i feel like i'll always be an outsider. \n",
      "------------------------------------------------------------\n",
      "got betrayed by someone i really liked and never been told the reason. i (29m) work at a hotel and there is this man in his early 40s thats been staying at our place for months now. we started to interact just last month - at first there was good chemistry and we've had lunch and coffee together on the regular over the course of the past four weeks. he made the invite a couple of times, he even asked for my phone number and invited me to attend his birthday! he got touchy with me. there was affection. when i tell you i was crushing on him. he is the definition of \"man crush\". a friend you want to stick with.however, he has been resenting me for some time now which is very confusing as i don't remember doing or saying anything offensive! like what is the matter? just last sunday we were dinning (he invited me out), everything was well and when i bumped into him on today and proposed to grab a coffee he told me off and he was being rude at that! out of the clear blue sky! \"stop bothering me, i've got way too much to do all day, i don't have time for this! \" man, last time we talked you were unemployed. youre sitting in your apartment all day and rarely ever leaving your spot. what is it that youre so busy with?how are you gonna invite me out a couple of times and on the very next day youre acting like i'm a pain and not worthy to be around your ass? what did i miss?the only thing that comes to mind that might have pissed him off is that i've offered to help once as he is struggling and i'm really worried for him. he is giving me \"heavy depression\" vibes, hes got a drinking problem and i'm really concered for his health! i even proposed to borrow him money so he can pay rent and get his shit together. but then again, what person would feel offended over someone offering help. oh well. i'm not gonna bother to walk up to him and confront him about this. i got humiliated enough on tonight when he told me to piss off in front of a ton of other hotel guests.question:still i want to know what caused him to turn on me. i need closure, its not giving me any rest. what happened here? got any idea? this really irks me.i love you all and am appreciative of every response. \n",
      "------------------------------------------------------------\n",
      "i feel like i'm dying from loneliness. does anyone in their 20s want to play genshin with me?  i'm 28. it's hard meeting older people in the community and just hard making friends in general at this age\n",
      "------------------------------------------------------------\n",
      "23m tired of being alone. you know honestly i just would like a companion just wish i had someone i could wake up to every morning and just hold and kiss and talk to every night and day. just wish i could have nightly phone calls or even just ask about one another's day. it's something that does get to me really and it's like i'm trying to find a way to fill this hole and it's not likely i'll find it. \n",
      "------------------------------------------------------------\n",
      "i'm 23, finished my uni and yet i don't have a single friend. how do you deal with this? all those years and not a single person is interested in knowing if i'm alive or dead. it's gonna keep getting worse as i grow older. i don't have the energy to go out and start conversations either. maybe i am the problem? \n",
      "------------------------------------------------------------\n",
      "what to do to trick your brain into being less lonely? i'm extremely lonely and i do not see this changing in the future for various reasons. i wish that i could turn off my brain's social need, but this doesn't seem to be possible. what kind of things do you folks do to reduce loneliness? or trick your brain into thinking you interacted with people?  #x200b;i was thinking online games or other places where you can briefly chat with people with no commitment, interacting with pets/animals (i don't  have any sadly), but does anyone else have other ideas? \n",
      "------------------------------------------------------------\n",
      "can't make friends or get to know anyone. i rely too much on my best friend to get me places in terms of meeting other people. it has only occurred to me recently that i really don't know how to talk to other people. i want to meet new people and go to social gatherings but i don't know where to start. even just sending a text to someone i don't know too well sends my heart pounding. i am too anxious over people judging me. there just seems to be no way of making new friends. i feel as if i can't be myself around anyone out of the fear of being judged. people might think i'm weird. people might shut me down. how do i interact with anyone? !\n",
      "------------------------------------------------------------\n",
      "i'm scared i wont get wished a happy birthday this yearbasically the titlei wished 2 of my friends a happy bday so far this year but i'm scared nobody will do the same for me. i even put their birthdays in my calendar so i wouldn't forget. i honestly don't care about birthdays but not getting wished one would make anyone feel alone or excluded as it shows the people in your life don't seem to care or remember these kinds of thingsim always forgotten\n",
      "------------------------------------------------------------\n",
      "feeling alone. how is everyone? \n",
      "------------------------------------------------------------\n",
      "when will the oppression finally be over here on this subreddit? these stupid reddit admins can ask for pictures of my massive eminent cock yet also tell me that trans people deserve nothing but sex slavery? why do they keep banning me bro's? is it because i tell the truth about the jews and niggers? f*** jenny's and f*** juice and f*** jenny's and f*** juice and f*** jenny's and f*** juice and f*** jenny's and f*** juice and f*** jenny's and f*** juice and f*** jenny's in fact juice.you people can't handle the f****** truth! ! ! ! who do you think owns our media and banks? ? ?the jooooooosssssssss~~~~~~\n",
      "------------------------------------------------------------\n",
      "turned 30 years old a few months ago, only had one real relationship and it was so long ago. doesn't help either that it was an abusive relationship and that she ended up committing suicide. turned me into a wreck of a man for years.i don't know what to do. i've never had anyone else since and i feel like i'll stay lonely 'til the end of my life. it hurts. i'm tired of coming back home and seeing an empty, dark and lonely place. don't have any real friend either. i work, i get depressed because my work sucks and because i have a probably non-reciprocal love on a coworker and when i come back home i'm alone. all i can do to cope is drink.sometimes i go out alone, especially at night, in the juvenile hope that i'll somehow meet the love of my life outside but obviously i never did and never will.i don't get what's wrong with me. i'm not that bad of a person. at least i think so. \n",
      "------------------------------------------------------------\n",
      "just got rejected and i'm really feeling alone right now. i (m24) just got rejected hard by a girl i've been in love with for the past 4 years. and i'm feeling pretty low and alone right now, just a lot of emotional suffering. \n",
      "------------------------------------------------------------\n",
      "went to the beach on my own today. did a pretty big thing today. after reading the numerous posts and comments from people saying doing stuff on their own is awesome and arguably better than with others motivated me to drive 1. 5 hours to my nearest beach today. . and yikes. that was hard. i went intending to just go and chill, walk down the promenade and get a bite to eat. did all that but being surrounded by couples, families and just general groups of people was difficult to be around. it was a nice day and good to get some sea air in me, but would i do it again. no chance. my favourite bit was probably the long drive! !am i doing something wrong or does it get better with time? \n",
      "------------------------------------------------------------\n",
      "having no friends while also having social anxiety is helli have no friends but the second i have the chance to make them i just freeze up and sweat and feel sick to my stomach and just want to be alone again. it suckshaving no friends sucks regardless but especially when you're terrified of people\n",
      "------------------------------------------------------------\n",
      "(f16) anyone wanna play minecraft bedrock? dm me and i'll give you my discord + gamer tag! i'm hoping to maybe make a cool house, and defeat the ender dragon! i'm up for voice chat, but if it makes you more comfortable, we can go without! i've never actually defeated the ender dragon properly, so i'd like to try! maybe we can even build an empire! !if we do voice chat, here is a warning. i'm deaf, so i probably won't hear everything you say. if it gets too tricky, can you write it down, please? i'm sorry for asking so much!i also have a lisp and quite an annoying voice, and i can be awkward. i tend to overshare too hahalemme know if you wanna play! \n",
      "------------------------------------------------------------\n",
      "do most liberal people and feminists have these similar beliefs about transgender women vs transgender men? :\n",
      "------------------------------------------------------------\n",
      "i don't really matter. my friends are great, i love em and would do anything for them. but mostly i feel like that i don't really matter. my best friend doesn't really has time for me anymore. i feel like he's trying to ignore me and doesn't want to meet. ik he's busy and working hard, and i understand that. i'm not bitching, ik everybody has their own personal lives to live but just a meet-up once a week wouldn't hurt anyone.  and my other friends? they do drugs, i don't. they made new drug friends who i don't know. they prefer spending time with them instead of me. i am the therapist friend of the group, everyone discuses their personal problems and dilemmas with me. but i feel like my problems don't really matter to them. they don't care what i am going through. or don't take it as big deal. \n"
     ]
    }
   ],
   "source": [
    "data = pd.read_parquet(get_data() / 'clean_data.parquet.brotli')"
   ]
  },
  {
   "cell_type": "markdown",
   "metadata": {},
   "source": [
    "### Get Sentence Data"
   ]
  },
  {
   "cell_type": "code",
   "execution_count": 116,
   "metadata": {},
   "outputs": [],
   "source": [
    "# Get Lonely Articles\n",
    "lonely_data = data.copy(deep=True)\n",
    "lonely_data = lonely_data.reset_index(drop=True)\n",
    "lonely_data['id'] = lonely_data.index"
   ]
  },
  {
   "cell_type": "code",
   "execution_count": 117,
   "metadata": {},
   "outputs": [],
   "source": [
    "# Split text into sentences and create a new column\n",
    "lonely_data['sentences'] = lonely_data['cleaned_article'].apply(split_into_sentences)"
   ]
  },
  {
   "cell_type": "code",
   "execution_count": 118,
   "metadata": {
    "scrolled": true
   },
   "outputs": [],
   "source": [
    "# Create a new DataFrame with exploded sentences\n",
    "sentence_data = lonely_data.explode('sentences').reset_index(drop=True)"
   ]
  },
  {
   "cell_type": "code",
   "execution_count": 119,
   "metadata": {},
   "outputs": [],
   "source": [
    "# Remove rows with None (i.e., sentences with one word or special characters only)\n",
    "sentence_data = sentence_data.dropna()"
   ]
  },
  {
   "cell_type": "code",
   "execution_count": 120,
   "metadata": {},
   "outputs": [],
   "source": [
    "sentence_data = sentence_data.set_index('id')"
   ]
  },
  {
   "cell_type": "markdown",
   "metadata": {},
   "source": [
    "### Get Sentence Embeddings"
   ]
  },
  {
   "cell_type": "code",
   "execution_count": 121,
   "metadata": {},
   "outputs": [],
   "source": [
    "sentence_data = sentence_data[['sentences']]"
   ]
  },
  {
   "cell_type": "code",
   "execution_count": 122,
   "metadata": {},
   "outputs": [
    {
     "name": "stdout",
     "output_type": "stream",
     "text": [
      "Total Time: 2069.5610268115997\n"
     ]
    }
   ],
   "source": [
    "# Apply the get_bert_embedding function to your cleaned sentences\n",
    "start_time = time.time()\n",
    "sentence_data['bert_emb_sentence'] = sentence_data['sentences'].apply(get_bert_embedding)\n",
    "total_time = time.time() - start_time\n",
    "print(f\"Total Time: {total_time}\")"
   ]
  },
  {
   "cell_type": "code",
   "execution_count": 123,
   "metadata": {},
   "outputs": [],
   "source": [
    "sentence_data.to_parquet(get_data() / 'bert_sentence_emb.parquet.brotli', compression='brotli')"
   ]
  },
  {
   "cell_type": "markdown",
   "metadata": {},
   "source": [
    "### Get Article Embeddings"
   ]
  },
  {
   "cell_type": "code",
   "execution_count": 124,
   "metadata": {},
   "outputs": [],
   "source": [
    "article = data.copy(deep=True)\n",
    "article['id'] = article.index\n",
    "article = article.set_index('id')"
   ]
  },
  {
   "cell_type": "code",
   "execution_count": 125,
   "metadata": {},
   "outputs": [],
   "source": [
    "article = article.dropna()"
   ]
  },
  {
   "cell_type": "code",
   "execution_count": 126,
   "metadata": {},
   "outputs": [
    {
     "name": "stdout",
     "output_type": "stream",
     "text": [
      "Total Time: 729.6872766017914\n"
     ]
    }
   ],
   "source": [
    "# Apply the get_bert_embedding function to your cleaned sentences\n",
    "start_time = time.time()\n",
    "article['bert_emb_art'] = article['cleaned_article'].apply(get_bert_embedding)\n",
    "total_time = time.time() - start_time\n",
    "print(f\"Total Time: {total_time}\")"
   ]
  },
  {
   "cell_type": "code",
   "execution_count": 127,
   "metadata": {},
   "outputs": [],
   "source": [
    "article.to_parquet(get_data() / 'bert_article_emb.parquet.brotli', compression='brotli')"
   ]
  },
  {
   "cell_type": "markdown",
   "metadata": {},
   "source": [
    "### Get Sentence Label Embedding"
   ]
  },
  {
   "cell_type": "code",
   "execution_count": 128,
   "metadata": {},
   "outputs": [],
   "source": [
    "label_sentence = [\"feeling alone despite being with others.\",\n",
    "                  \"a quiet room highlights my loneliness.\",\n",
    "                  \"seeking connections, but left alone.\",\n",
    "                  \"lost in the crowd, feeling isolated.\",\n",
    "                  \"alone with my thoughts every night.\"]"
   ]
  },
  {
   "cell_type": "code",
   "execution_count": 129,
   "metadata": {},
   "outputs": [
    {
     "name": "stdout",
     "output_type": "stream",
     "text": [
      "Retrieving label embeddings...\n",
      "Computing cosine similiarity with label embeddings...\n",
      "Label:  0\n",
      "Label:  1\n",
      "Label:  2\n",
      "Label:  3\n",
      "Label:  4\n"
     ]
    }
   ],
   "source": [
    "cosine_sim = zero_shot(sentence_data, 'bert_emb_sentence', label_sentence)"
   ]
  },
  {
   "cell_type": "code",
   "execution_count": 130,
   "metadata": {},
   "outputs": [],
   "source": [
    "cosine_sim['cosine_sim_mean'] = cosine_sim[[f\"cosine_sim_{i}\" for i in range(0, 5)]].mean(axis=1)"
   ]
  },
  {
   "cell_type": "code",
   "execution_count": 133,
   "metadata": {
    "scrolled": true
   },
   "outputs": [],
   "source": [
    "max = cosine_sim.groupby('id').apply(get_max_rows).reset_index(level=0, drop=True)\n",
    "max = max[['bert_emb_sentence']]\n",
    "max.columns = ['bert_emb_max']"
   ]
  },
  {
   "cell_type": "code",
   "execution_count": 134,
   "metadata": {},
   "outputs": [],
   "source": [
    "min = cosine_sim.groupby('id').apply(get_min_rows).reset_index(level=0, drop=True)\n",
    "min = min[['bert_emb_sentence']]\n",
    "min.columns = ['bert_emb_min']"
   ]
  },
  {
   "cell_type": "code",
   "execution_count": 135,
   "metadata": {},
   "outputs": [],
   "source": [
    "min_max = pd.merge(min, max, left_index=True, right_index=True, how='inner')"
   ]
  },
  {
   "cell_type": "code",
   "execution_count": 136,
   "metadata": {},
   "outputs": [],
   "source": [
    "min_max.to_parquet(get_data() / 'bert_sentence_cosine.parquet.brotli', compression='brotli')"
   ]
  },
  {
   "cell_type": "markdown",
   "metadata": {},
   "source": [
    "#### Get Article Label Embedding"
   ]
  },
  {
   "cell_type": "code",
   "execution_count": 137,
   "metadata": {},
   "outputs": [],
   "source": [
    "art_emb = pd.read_parquet(get_data() / 'bert_article_emb.parquet.brotli')"
   ]
  },
  {
   "cell_type": "code",
   "execution_count": 138,
   "metadata": {},
   "outputs": [],
   "source": [
    "label_article = [\n",
    "    \"Even when I'm surrounded by people, a deep sense of loneliness clutches at me. It's like being in a room full of conversations, laughter, and life, yet feeling completely detached and isolated. My mind wanders to thoughts that maybe I don't quite fit in, or perhaps I'm fundamentally different. This sense of separation isn’t about physical presence; it's about not feeling connected or understood. It's like being an outsider in my own life, watching others interact with ease, while I'm trapped behind an invisible barrier of disconnection.\",\n",
    "    \n",
    "    \"In the silence of my room, the loudness of my loneliness becomes overwhelming. The quietness echoes the emptiness I feel inside. It's in these moments of solitude that my thoughts become my only company, often leading me down a path of introspection and melancholy. The walls seem to close in, and the lack of sound or distraction brings a stark awareness to my isolation. It's as if the silence speaks a truth I try to avoid in the day's hustle – that I am profoundly alone, even in a world full of people.\",\n",
    "    \n",
    "    \"I often find myself reaching out, trying to make connections with those around me. Yet, despite my efforts, it feels like I'm left alone, standing on the periphery of relationships. Each attempt at conversation, each effort to engage, seems to fall short, leaving me more disheartened. It's a cycle of seeking and hoping, only to be met with the cold reality of solitude. The more I try, the more apparent my isolation becomes, and the more I wonder if there’s something about me that just doesn’t resonate with others.\",\n",
    "    \n",
    "    \"Being in a crowd is a strange experience for me. I’m surrounded by people, yet I’ve never felt more isolated. It's like being adrift in a sea of faces, voices, and emotions, yet not being a part of any of it. I watch as others interact and connect, forming bonds and sharing moments, while I remain just an observer. This feeling of isolation isn't just about being physically alone; it's about feeling disconnected and unseen, even in the midst of a bustling crowd.\",\n",
    "    \n",
    "    \"Nighttime is the hardest for me. As the world quiets down, I'm left alone with my thoughts, which often turn into a whirlpool of loneliness and reflection. The darkness of the night seems to mirror the darkness of my mood. These are the hours when the feeling of solitude is most acute, and my mind relentlessly revisits moments of the day, analyzing and overthinking. The silence of the night is a stark reminder of my solitude, a time when I’m left to confront my deepest feelings of isolation and longing for connection.\"\n",
    "]"
   ]
  },
  {
   "cell_type": "code",
   "execution_count": 139,
   "metadata": {},
   "outputs": [
    {
     "name": "stdout",
     "output_type": "stream",
     "text": [
      "Retrieving label embeddings...\n",
      "Computing cosine similiarity with label embeddings...\n",
      "Label:  0\n",
      "Label:  1\n",
      "Label:  2\n",
      "Label:  3\n",
      "Label:  4\n"
     ]
    }
   ],
   "source": [
    "cosine_sim = zero_shot(art_emb, 'bert_emb_art', label_article)"
   ]
  },
  {
   "cell_type": "code",
   "execution_count": 140,
   "metadata": {},
   "outputs": [],
   "source": [
    "cosine_sim['cosine_sim_art_mean'] = cosine_sim[[f\"cosine_sim_{i}\" for i in range(0, 5)]].mean(axis=1)"
   ]
  },
  {
   "cell_type": "code",
   "execution_count": 149,
   "metadata": {},
   "outputs": [],
   "source": [
    "cosine_sim[['cosine_sim_art_mean'] + [f\"cosine_sim_{i}\" for i in range(0, 5)]].to_parquet(get_data() / 'bert_art_cosine.parquet.brotli', compression='brotli')"
   ]
  },
  {
   "cell_type": "code",
   "execution_count": null,
   "metadata": {},
   "outputs": [],
   "source": []
  }
 ],
 "metadata": {
  "colab": {
   "authorship_tag": "ABX9TyMJ4oOZhqEQw5eRu9A06Ngx",
   "provenance": []
  },
  "kernelspec": {
   "display_name": "lonely",
   "language": "python",
   "name": "lonely"
  },
  "language_info": {
   "codemirror_mode": {
    "name": "ipython",
    "version": 3
   },
   "file_extension": ".py",
   "mimetype": "text/x-python",
   "name": "python",
   "nbconvert_exporter": "python",
   "pygments_lexer": "ipython3",
   "version": "3.10.13"
  }
 },
 "nbformat": 4,
 "nbformat_minor": 4
}
