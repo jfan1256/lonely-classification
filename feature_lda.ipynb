{
 "cells": [
  {
   "cell_type": "code",
   "execution_count": 45,
   "id": "80891fb2-f2dc-4c97-8bf5-b779f4891dbd",
   "metadata": {},
   "outputs": [],
   "source": [
    "import pandas as pd\n",
    "import numpy as np\n",
    "import scipy.sparse\n",
    "import nltk\n",
    "import warnings\n",
    "import re\n",
    "import scipy.sparse\n",
    "\n",
    "warnings.filterwarnings('ignore')\n",
    "\n",
    "from sklearn.feature_extraction.text import TfidfVectorizer\n",
    "from gensim import matutils, models\n",
    "from nltk.corpus import stopwords\n",
    "from sklearn.decomposition import TruncatedSVD\n",
    "from gensim import matutils, models\n",
    "from gensim.models import CoherenceModel\n",
    "from gensim.corpora import Dictionary\n",
    "from nltk.tokenize import word_tokenize\n",
    "\n",
    "from utils.system import *"
   ]
  },
  {
   "cell_type": "code",
   "execution_count": null,
   "id": "8539d99f-18f4-4820-b64c-07266497feb9",
   "metadata": {},
   "outputs": [],
   "source": [
    "data = pd.read_parquet(get_data() / 'clean_data.parquet.brotli')"
   ]
  },
  {
   "cell_type": "code",
   "execution_count": 48,
   "id": "d8d2f91a-7fc6-4f32-aad7-e7e40b213c7c",
   "metadata": {},
   "outputs": [
    {
     "name": "stderr",
     "output_type": "stream",
     "text": [
      "[nltk_data] Downloading package punkt to\n",
      "[nltk_data]     C:\\Users\\weigfan\\AppData\\Roaming\\nltk_data...\n",
      "[nltk_data]   Package punkt is already up-to-date!\n"
     ]
    }
   ],
   "source": [
    "nltk.download('punkt')\n",
    "tokenized_texts = [word_tokenize(doc.lower()) for doc in data['cleaned_article']]"
   ]
  },
  {
   "cell_type": "code",
   "execution_count": 50,
   "id": "3bcbe286-05f6-4911-b46b-84bf4149fe84",
   "metadata": {},
   "outputs": [],
   "source": [
    "id2word = Dictionary(tokenized_texts)\n",
    "corpus = [id2word.doc2bow(text) for text in tokenized_texts]"
   ]
  },
  {
   "cell_type": "code",
   "execution_count": 61,
   "id": "c51a25c2-0817-4686-98bc-a8540ea68048",
   "metadata": {
    "scrolled": true
   },
   "outputs": [
    {
     "data": {
      "text/plain": [
       "[(0,\n",
       "  '0.106*\"i\" + 0.062*\".\" + 0.035*\"to\" + 0.024*\"n\\'t\" + 0.022*\"and\" + 0.021*\"do\" + 0.020*\"it\" + 0.020*\"me\" + 0.019*\"\\'m\" + 0.016*\"just\"'),\n",
       " (1,\n",
       "  '0.123*\"*\" + 0.112*\"!\" + 0.067*\"?\" + 0.027*\";\" + 0.021*\"you\" + 0.021*\"#\" + 0.018*\"x200b\" + 0.017*\":\" + 0.017*\")\" + 0.015*\"]\"'),\n",
       " (2,\n",
       "  '0.044*\".\" + 0.040*\"i\" + 0.035*\"and\" + 0.031*\"was\" + 0.030*\"she\" + 0.027*\"me\" + 0.025*\"her\" + 0.023*\",\" + 0.023*\"to\" + 0.019*\"a\"'),\n",
       " (3,\n",
       "  '0.065*\"i\" + 0.049*\".\" + 0.032*\"and\" + 0.030*\"my\" + 0.028*\",\" + 0.026*\"to\" + 0.023*\"a\" + 0.022*\"the\" + 0.018*\"of\" + 0.016*\"in\"'),\n",
       " (4,\n",
       "  '0.028*\"youtube\" + 0.024*\"17\" + 0.013*\"meet\" + 0.012*\"live\" + 0.011*\"politics\" + 0.011*\"circuitry\" + 0.010*\"mostly\" + 0.010*\"anyways\" + 0.009*\"enjoy\" + 0.008*\"prefer\"'),\n",
       " (5,\n",
       "  '0.090*\",\" + 0.028*\"i\" + 0.026*\"a\" + 0.023*\".\" + 0.021*\"of\" + 0.020*\"to\" + 0.018*\"and\" + 0.013*\")\" + 0.013*\"(\" + 0.011*\"in\"'),\n",
       " (6,\n",
       "  '0.061*\",\" + 0.040*\"you\" + 0.039*\".\" + 0.036*\"the\" + 0.027*\"to\" + 0.022*\"and\" + 0.022*\"of\" + 0.021*\"a\" + 0.021*\"that\" + 0.016*\"it\"'),\n",
       " (7,\n",
       "  '0.058*\"i\" + 0.049*\"to\" + 0.043*\".\" + 0.035*\",\" + 0.028*\"a\" + 0.027*\"and\" + 0.017*\"\\'m\" + 0.015*\"talk\" + 0.015*\"?\" + 0.013*\"just\"'),\n",
       " (8,\n",
       "  '0.004*\"co-workers\" + 0.003*\"recommendations\" + 0.003*\"loosing\" + 0.002*\"unconditional\" + 0.002*\"sa\" + 0.002*\"shatter\" + 0.002*\"violence\" + 0.002*\"jack\" + 0.002*\"intertwined\" + 0.002*\"unattainable\"'),\n",
       " (9,\n",
       "  '0.028*\"[\" + 0.028*\"]\" + 0.012*\":\" + 0.006*\"pets\" + 0.004*\"14-19.\" + 0.004*\"virtual\" + 0.004*\"study\" + 0.003*\"exchange\" + 0.003*\"org/\" + 0.003*\"fire\"')]"
      ]
     },
     "execution_count": 61,
     "metadata": {},
     "output_type": "execute_result"
    }
   ],
   "source": [
    "# LDA model\n",
    "num_topic = 10\n",
    "lda_model = models.LdaModel(corpus=corpus, id2word=id2word, num_topics=num_topic, passes=50)\n",
    "lda_model.print_topics()"
   ]
  },
  {
   "cell_type": "code",
   "execution_count": 62,
   "id": "c50a7e03-0d5c-4ca1-b21b-8d6e2fdc2e08",
   "metadata": {},
   "outputs": [
    {
     "name": "stdout",
     "output_type": "stream",
     "text": [
      "Coherence Score: 0.3887702534700664\n"
     ]
    }
   ],
   "source": [
    "coherence_model = CoherenceModel(model=lda_model, texts=tokenized_texts, dictionary=id2word, coherence='c_v')\n",
    "coherence_score = coherence_model.get_coherence()\n",
    "print(f'Coherence Score: {coherence_score}')"
   ]
  },
  {
   "cell_type": "code",
   "execution_count": 65,
   "id": "09e0026b-3e6f-4c45-8101-19f81954732e",
   "metadata": {},
   "outputs": [],
   "source": [
    "# Get topic distribution for each document\n",
    "topic_distributions = [lda_model.get_document_topics(bow) for bow in corpus]\n",
    "\n",
    "doc_topics = []\n",
    "for distribution in topic_distributions:\n",
    "    topics = [0] * num_topic\n",
    "    for topic, weight in distribution:\n",
    "        topics[topic] = weight\n",
    "    \n",
    "    doc_topics.append(topics)\n",
    "\n",
    "# Convert to DataFrame\n",
    "topics_df = pd.DataFrame(doc_topics, columns=[f'Topic_{i}' for i in range(num_topic)])\n",
    "topics_df.index = data.index"
   ]
  },
  {
   "cell_type": "code",
   "execution_count": 66,
   "id": "00c621f7-685c-418f-8fb6-8c62b83415fd",
   "metadata": {},
   "outputs": [],
   "source": [
    "topics_df.to_parquet(get_data() / 'lda_topic.parquet.brotli', compression='brotli')"
   ]
  },
  {
   "cell_type": "code",
   "execution_count": null,
   "id": "5c62802f-62df-43a5-9756-166a549bda17",
   "metadata": {},
   "outputs": [],
   "source": []
  }
 ],
 "metadata": {
  "kernelspec": {
   "display_name": "lonely",
   "language": "python",
   "name": "lonely"
  },
  "language_info": {
   "codemirror_mode": {
    "name": "ipython",
    "version": 3
   },
   "file_extension": ".py",
   "mimetype": "text/x-python",
   "name": "python",
   "nbconvert_exporter": "python",
   "pygments_lexer": "ipython3",
   "version": "3.10.13"
  }
 },
 "nbformat": 4,
 "nbformat_minor": 5
}
