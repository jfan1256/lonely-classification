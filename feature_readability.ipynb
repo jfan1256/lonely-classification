{
 "cells": [
  {
   "cell_type": "code",
   "execution_count": 2,
   "id": "7b2d45aa-a51f-4292-b3d1-e826e7af70ed",
   "metadata": {},
   "outputs": [],
   "source": [
    "import pandas as pd\n",
    "\n",
    "from utils.system import *\n",
    "\n",
    "from textstat import flesch_reading_ease, automated_readability_index, dale_chall_readability_score"
   ]
  },
  {
   "cell_type": "code",
   "execution_count": 3,
   "id": "e60f3986-d4ac-412d-a1a6-d061802b0ecd",
   "metadata": {},
   "outputs": [],
   "source": [
    "data = pd.read_parquet(get_data() / 'clean_data.parquet.brotli')"
   ]
  },
  {
   "cell_type": "code",
   "execution_count": 4,
   "id": "b2061162-e4e6-44e0-8475-bf0a91f5c638",
   "metadata": {},
   "outputs": [],
   "source": [
    "# Calculate Flesch Reading Ease score\n",
    "data['flesch_reading_ease'] = data['cleaned_article'].apply(flesch_reading_ease)\n",
    "# Calculate Automated Readability Index (ARI) score\n",
    "data['ari'] = data['cleaned_article'].apply(automated_readability_index)\n",
    "# Calculate Dale-Chall Readability Score\n",
    "data['dale_chall_score'] = data['cleaned_article'].apply(dale_chall_readability_score)"
   ]
  },
  {
   "cell_type": "code",
   "execution_count": 6,
   "id": "05e4cc33-9562-4588-8ed7-8bb056414c3c",
   "metadata": {},
   "outputs": [],
   "source": [
    "data = data[['flesch_reading_ease', 'ari', 'dale_chall_score']]"
   ]
  },
  {
   "cell_type": "code",
   "execution_count": 8,
   "id": "0f881128-1d45-458f-8205-8fad680d195f",
   "metadata": {},
   "outputs": [],
   "source": [
    "data.to_parquet(get_data() / 'readability.parquet.brotli')"
   ]
  },
  {
   "cell_type": "code",
   "execution_count": null,
   "id": "0a4f9485-7378-44eb-8fc6-2045ccb9fb51",
   "metadata": {},
   "outputs": [],
   "source": []
  }
 ],
 "metadata": {
  "kernelspec": {
   "display_name": "lonely",
   "language": "python",
   "name": "lonely"
  },
  "language_info": {
   "codemirror_mode": {
    "name": "ipython",
    "version": 3
   },
   "file_extension": ".py",
   "mimetype": "text/x-python",
   "name": "python",
   "nbconvert_exporter": "python",
   "pygments_lexer": "ipython3",
   "version": "3.10.13"
  }
 },
 "nbformat": 4,
 "nbformat_minor": 5
}
