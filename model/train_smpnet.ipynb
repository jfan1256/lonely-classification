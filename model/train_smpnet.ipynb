{
 "cells": [
  {
   "cell_type": "code",
   "execution_count": 51,
   "id": "46f85673-7a43-4699-a667-08527d21e144",
   "metadata": {},
   "outputs": [],
   "source": [
    "import pandas as pd\n",
    "from scipy.sparse import csr_matrix\n",
    "from sklearn.feature_extraction.text import CountVectorizer\n",
    "from sklearn.decomposition import TruncatedSVD\n",
    "from sklearn.model_selection import train_test_split, GridSearchCV\n",
    "from imblearn.over_sampling import SMOTE\n",
    "from sklearn.neural_network import MLPClassifier\n",
    "from sklearn.ensemble import VotingClassifier\n",
    "from sklearn.metrics import accuracy_score, f1_score, precision_recall_fscore_support, classification_report, confusion_matrix\n",
    "import seaborn as sns\n",
    "import matplotlib.pyplot as plt\n",
    "from utils.system import *"
   ]
  },
  {
   "cell_type": "code",
   "execution_count": 52,
   "id": "6b2c0148-85fc-4890-b757-f23978158f04",
   "metadata": {},
   "outputs": [],
   "source": [
    "data = pd.read_parquet(get_data() / 'clean_data.parquet.brotli')"
   ]
  },
  {
   "cell_type": "code",
   "execution_count": 53,
   "id": "5ad6549a-a705-496e-825c-9d6ca5a4cb67",
   "metadata": {},
   "outputs": [
    {
     "data": {
      "text/plain": [
       "id\n",
       "0       red streak girl. so uh yeah she seems pretty c...\n",
       "1           just wanna talk. i'm here to talk if you want\n",
       "2       how to get over jealousy of socially active fr...\n",
       "3       were all lonely people, right? saw a post on h...\n",
       "4       i hate my birthdaymy birthday is in two days a...\n",
       "                              ...                        \n",
       "7994     hello. how are you today? and how was your day? \n",
       "7995    i have nobody and nothing to live for. at this...\n",
       "7996    26m [friendship] - clean audio chat - depressi...\n",
       "7997    i forgot how to make friends. it's been so lon...\n",
       "7998    please. hi. if anyone can keep me company toni...\n",
       "Name: cleaned_article, Length: 7999, dtype: object"
      ]
     },
     "execution_count": 53,
     "metadata": {},
     "output_type": "execute_result"
    }
   ],
   "source": [
    "X = data['cleaned_article']\n",
    "y = data['overall_label']\n",
    "\n",
    "X"
   ]
  },
  {
   "cell_type": "code",
   "execution_count": 54,
   "id": "c7b4324b-d375-4f16-83e5-4da4c4483d56",
   "metadata": {},
   "outputs": [],
   "source": [
    "#tfidf_vectorizer = CountVectorizer(max_features=5000, ngram_range=(1, 2))\n",
    "#X_tfidf = tfidf_vectorizer.fit_transform(X)\n",
    "\n",
    "#lsa = TruncatedSVD(n_components=300, random_state=42)\n",
    "#X_lsa = lsa.fit_transform(X_tfidf)\n",
    "\n",
    "#SMOTE (Synthetic Minority Over-sampling Technique) is a popular technique used to address class imbalance in datasets, and it's available in the imbalanced-learn library. \n",
    "#smote = SMOTE(random_state=42)\n",
    "#X_augmented, y_augmented = smote.fit_resample(X_lsa, y)\n",
    "\n",
    "#X_train, X_test, y_train, y_test = train_test_split(X_augmented, y_augmented, test_size=0.2, random_state=42)\n",
    "\n",
    "#param_grid = {\n",
    "#    'hidden_layer_sizes': [(100,), (200,), (100, 50), (150, 75)],\n",
    "#    'alpha': [0.0001, 0.001, 0.01],\n",
    "#}"
   ]
  },
  {
   "cell_type": "code",
   "execution_count": 55,
   "id": "d5dd370b-2a3f-48a7-9fdd-0d6438914d14",
   "metadata": {},
   "outputs": [],
   "source": [
    "cv = CountVectorizer(max_features=5000, ngram_range=(1, 2), stop_words='english')\n",
    "X = cv.fit_transform(X)\n",
    "\n",
    "X_train, X_test, y_train, y_test = train_test_split(X, y, test_size=0.2, random_state=42)"
   ]
  },
  {
   "cell_type": "code",
   "execution_count": 56,
   "id": "7f5c34ad-d283-423b-bd71-72d66217d626",
   "metadata": {},
   "outputs": [
    {
     "name": "stdout",
     "output_type": "stream",
     "text": [
      "Confusion Matrix:\n",
      "[[783 206]\n",
      " [249 362]]\n"
     ]
    }
   ],
   "source": [
    "param_grid = {\n",
    "    'hidden_layer_sizes': [(100,), (200,), (100, 50), (150, 75)],\n",
    "    'alpha': [0.0001, 0.001, 0.01],\n",
    "}\n",
    "\n",
    "mlp_classifier = MLPClassifier(max_iter=500, random_state=42)\n",
    "\n",
    "grid_search = GridSearchCV(mlp_classifier, param_grid, cv=3)\n",
    "grid_search.fit(X_train, y_train)\n",
    "\n",
    "best_hidden_layer_sizes = grid_search.best_params_['hidden_layer_sizes']\n",
    "best_alpha = grid_search.best_params_['alpha']\n",
    "\n",
    "mlp_classifier = MLPClassifier(hidden_layer_sizes=best_hidden_layer_sizes, alpha=best_alpha, max_iter=500, random_state=42)\n",
    "\n",
    "voting_classifier = VotingClassifier(estimators=[('mlp', mlp_classifier)], voting='hard')\n",
    "\n",
    "voting_classifier.fit(X_train, y_train)\n",
    "\n",
    "y_pred = voting_classifier.predict(X_test)\n",
    "\n",
    "# Print the confusion matrix\n",
    "confusion_mat = confusion_matrix(y_test, y_pred)\n",
    "print(\"Confusion Matrix:\")\n",
    "print(confusion_mat)"
   ]
  },
  {
   "cell_type": "code",
   "execution_count": 57,
   "id": "c712b479-8496-494f-af87-d53935c0907b",
   "metadata": {},
   "outputs": [
    {
     "data": {
      "image/png": "[encoded data removed]",
      "text/plain": [
       "<Figure size 800x600 with 1 Axes>"
      ]
     },
     "metadata": {},
     "output_type": "display_data"
    }
   ],
   "source": [
    "\n",
    "# Print the confusion matrix as a heatmap using Seaborn\n",
    "confusion_mat = confusion_matrix(y_test, y_pred)\n",
    "plt.figure(figsize=(8, 6))\n",
    "sns.heatmap(confusion_mat, annot=True, fmt=\"d\", cmap=\"Blues\", cbar=False)\n",
    "plt.xlabel(\"Predicted Labels\")\n",
    "plt.ylabel(\"True Labels\")\n",
    "plt.title(\"Confusion Matrix\")\n",
    "plt.show()"
   ]
  },
  {
   "cell_type": "code",
   "execution_count": 58,
   "id": "7454ae21-982d-4367-8dec-5f645a447d1c",
   "metadata": {},
   "outputs": [
    {
     "name": "stdout",
     "output_type": "stream",
     "text": [
      "Test Set Accuracy: 0.715625\n",
      "Test Set F1 Score: 0.6140797285835455\n",
      "Test Set Precision: 0.6373239436619719\n",
      "Test Set Recall: 0.5924713584288053\n",
      "Classification Report:\n",
      "               precision    recall  f1-score   support\n",
      "\n",
      "           0       0.76      0.79      0.77       989\n",
      "           1       0.64      0.59      0.61       611\n",
      "\n",
      "    accuracy                           0.72      1600\n",
      "   macro avg       0.70      0.69      0.69      1600\n",
      "weighted avg       0.71      0.72      0.71      1600\n",
      "\n"
     ]
    }
   ],
   "source": [
    "# Calculate evaluation metrics\n",
    "accuracy = accuracy_score(y_test, y_pred)\n",
    "f1 = f1_score(y_test, y_pred)\n",
    "precision, recall, _, _ = precision_recall_fscore_support(y_test, y_pred)\n",
    "\n",
    "print(\"Test Set Accuracy:\", accuracy)\n",
    "print(\"Test Set F1 Score:\", f1)\n",
    "print(\"Test Set Precision:\", precision[1])\n",
    "print(\"Test Set Recall:\", recall[1])\n",
    "print(\"Classification Report:\\n\", classification_report(y_test, y_pred))"
   ]
  },
  {
   "cell_type": "code",
   "execution_count": null,
   "id": "d429edd3-4142-4d88-810d-96222794887e",
   "metadata": {},
   "outputs": [],
   "source": []
  }
 ],
 "metadata": {
  "kernelspec": {
   "display_name": "lonely",
   "language": "python",
   "name": "lonely"
  },
  "language_info": {
   "codemirror_mode": {
    "name": "ipython",
    "version": 3
   },
   "file_extension": ".py",
   "mimetype": "text/x-python",
   "name": "python",
   "nbconvert_exporter": "python",
   "pygments_lexer": "ipython3",
   "version": "3.10.13"
  }
 },
 "nbformat": 4,
 "nbformat_minor": 5
}
