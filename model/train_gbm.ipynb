{
 "cells": [
  {
   "cell_type": "code",
   "execution_count": 61,
   "id": "15c5d0c6-6ce4-4458-98dd-90aac040283b",
   "metadata": {},
   "outputs": [],
   "source": [
    "import pandas as pd\n",
    "import numpy as np\n",
    "import json\n",
    "import time\n",
    "import lightgbm as lgb\n",
    "import matplotlib.pyplot as plt\n",
    "import optuna\n",
    "\n",
    "from sklearn.model_selection import KFold\n",
    "from collections import Counter\n",
    "from sklearn.metrics import confusion_matrix, precision_score, recall_score, f1_score\n",
    "from sklearn.feature_extraction.text import TfidfVectorizer\n",
    "from sklearn.model_selection import train_test_split\n",
    "from sklearn.metrics import log_loss\n",
    "\n",
    "from utils.system import *\n",
    "from metric import get_metric"
   ]
  },
  {
   "cell_type": "markdown",
   "id": "72b627ae-de9f-4c42-9033-652276f134e9",
   "metadata": {},
   "source": [
    "#### Prep Data"
   ]
  },
  {
   "cell_type": "code",
   "execution_count": 42,
   "id": "e5719cab-580e-4d36-84e8-c8423304e9b0",
   "metadata": {},
   "outputs": [],
   "source": [
    "# Read in data\n",
    "article = pd.read_csv(get_data() / 'human_annotations_all_8000_overall.csv')\n",
    "art_emb = pd.read_parquet(get_data() / 'bert_article_emb.parquet.brotli')\n",
    "sentence_emb = pd.read_parquet(get_data() / 'bert_sentence_cosine.parquet.brotli')  \n",
    "sent = pd.read_parquet(get_data() / 'bert_sentiment.parquet.brotli')\n",
    "art_cos = pd.read_parquet(get_data() / 'bert_art_cosine.parquet.brotli')  \n",
    "emotion = pd.read_parquet(get_data() / 'bert_emotion.parquet.brotli')\n",
    "topic = pd.read_parquet(get_data() / 'lda_topic.parquet.brotli')\n",
    "n_gram = pd.read_parquet(get_data() / 'n_gram.parquet.brotli')\n",
    "lex_div = pd.read_parquet(get_data() / 'lexical_div.parquet.brotli')\n",
    "readability = pd.read_parquet(get_data() / 'readability.parquet.brotli')\n",
    "time_data = pd.read_parquet(get_data() / 'time.parquet.brotli')\n",
    "lexicon = pd.read_parquet(get_data() / 'bert_word_cosine.parquet.brotli')"
   ]
  },
  {
   "cell_type": "code",
   "execution_count": 43,
   "id": "050c9242-b4ba-4ec7-91b9-5301e9e0f7b0",
   "metadata": {},
   "outputs": [],
   "source": [
    "# Merge all data together\n",
    "merged_emb = (pd.merge(art_emb, sentence_emb, on='id', how='inner')\n",
    "              .merge(sent, on='id', how='inner')\n",
    "              .merge(art_cos, on='id', how='inner')\n",
    "              .merge(emotion, on='id', how='inner')\n",
    "              .merge(lex_div, on='id', how='inner')\n",
    "              .merge(topic, on='id', how='inner')\n",
    "              .merge(n_gram, on='id', how='inner')\n",
    "              .merge(time_data, on='id', how='inner'))"
   ]
  },
  {
   "cell_type": "code",
   "execution_count": 44,
   "id": "1daa2478-f499-4864-9d22-af3e4f425d4e",
   "metadata": {},
   "outputs": [],
   "source": [
    "# Stack article embeddings + sentence embeddings together into one array\n",
    "merged_emb['comb_emb'] = merged_emb.apply(lambda row: [*row['bert_emb_art'], *row['bert_emb_min'], *row['bert_emb_max']], axis=1)"
   ]
  },
  {
   "cell_type": "code",
   "execution_count": 45,
   "id": "a356bc63-b17e-4c3b-aef4-37fb10726245",
   "metadata": {},
   "outputs": [],
   "source": [
    "# Retrieve top ____ words\n",
    "lexicon = lexicon.head(250)\n",
    "lexicon = lexicon.reset_index(level=0, drop=True)"
   ]
  },
  {
   "cell_type": "markdown",
   "id": "6b2f4da7-b168-4975-9341-9a36ec905de7",
   "metadata": {},
   "source": [
    "#### Word Count Feature"
   ]
  },
  {
   "cell_type": "code",
   "execution_count": 46,
   "id": "1a9f83e5-4979-48b3-8231-dc67f0dcc18e",
   "metadata": {},
   "outputs": [],
   "source": [
    "# Count\n",
    "merged_emb['word_count'] = merged_emb['cleaned_article'].apply(lambda x: len(x.split()))"
   ]
  },
  {
   "cell_type": "markdown",
   "id": "1ae85c3c-1f01-4ede-9475-f8ff2339584f",
   "metadata": {},
   "source": [
    "#### Undersample"
   ]
  },
  {
   "cell_type": "code",
   "execution_count": 47,
   "id": "8f2f3234-6216-43b4-bef5-531b3b6b75f8",
   "metadata": {},
   "outputs": [],
   "source": [
    "# Undersample\n",
    "undersample = merged_emb.sort_values('overall_label')\n",
    "df_class_0 = undersample[undersample['overall_label'] == 0]\n",
    "df_class_1 = undersample[undersample['overall_label'] == 1]\n",
    "n_samples = min(len(df_class_0), len(df_class_1))\n",
    "df_class_0_under = df_class_0.sample(n_samples)\n",
    "df_class_1_under = df_class_1.sample(n_samples)\n",
    "merged_undersample = pd.concat([df_class_0_under, df_class_1_under], axis=0)\n",
    "merged_undersample = merged_undersample.sample(frac=1).reset_index(drop=True)"
   ]
  },
  {
   "cell_type": "markdown",
   "id": "be3917d1-e925-4c53-813f-a2a022e77819",
   "metadata": {},
   "source": [
    "#### Tfidf vectorize"
   ]
  },
  {
   "cell_type": "code",
   "execution_count": 48,
   "id": "328b140c-325d-46f3-a998-229bd54d45bb",
   "metadata": {},
   "outputs": [],
   "source": [
    "# Vectorize Text\n",
    "tfidf_vectorizer = TfidfVectorizer(max_features=10000, ngram_range=(1, 2))\n",
    "tfidf_features = tfidf_vectorizer.fit_transform(merged_undersample['cleaned_article'])\n",
    "tfidf_df = pd.DataFrame(tfidf_features.toarray(), columns=tfidf_vectorizer.get_feature_names_out())\n",
    "tfidf_df = tfidf_df.drop('count', axis=1)"
   ]
  },
  {
   "cell_type": "code",
   "execution_count": 49,
   "id": "2402ff44-3f4b-44ef-95c4-d82b97423618",
   "metadata": {},
   "outputs": [],
   "source": [
    "merged_undersample = pd.concat([merged_undersample, tfidf_df], axis=1)"
   ]
  },
  {
   "cell_type": "markdown",
   "id": "23e8f43c-3a52-4435-9a12-2a6d7292187e",
   "metadata": {},
   "source": [
    "#### Convert Lexicon Dictionary to Numerical Format"
   ]
  },
  {
   "cell_type": "code",
   "execution_count": 50,
   "id": "0cb03b53-ec72-4d13-b3ad-0c8c79e31072",
   "metadata": {},
   "outputs": [],
   "source": [
    "def create_count_features(article, lexicon):\n",
    "    word_counts = Counter(article.split())\n",
    "    features = [word_counts[word] for word in lexicon]\n",
    "    return features"
   ]
  },
  {
   "cell_type": "code",
   "execution_count": 51,
   "id": "c6e01f64-de82-423c-b1c3-50f672a0d68b",
   "metadata": {
    "scrolled": true
   },
   "outputs": [],
   "source": [
    "lexicon_list = lexicon['word'].tolist()\n",
    "# For count features\n",
    "merged_undersample['count_features'] = merged_undersample['cleaned_article'].apply(lambda x: create_count_features(x, lexicon_list))"
   ]
  },
  {
   "cell_type": "markdown",
   "id": "05f8b349-fffe-461b-9e0b-0feac43c4d5e",
   "metadata": {},
   "source": [
    "#### Flatten word embeddings into columns"
   ]
  },
  {
   "cell_type": "code",
   "execution_count": 52,
   "id": "82a2afcc-33f4-4b6a-bad3-5eec8efe44b6",
   "metadata": {},
   "outputs": [],
   "source": [
    "# Function to flatten an array-containing column\n",
    "def flatten_column(dataframe, column_name):\n",
    "    # Flatten the column\n",
    "    flattened_features = np.stack(dataframe[column_name].values)\n",
    "    # Create a new DataFrame from the flattened features\n",
    "    flattened_df = pd.DataFrame(flattened_features, columns=[f'{column_name}_{i}' for i in range(flattened_features.shape[1])])\n",
    "    return flattened_df"
   ]
  },
  {
   "cell_type": "code",
   "execution_count": 53,
   "id": "bd3f42bd-a3e9-40dd-a350-6e0c7420174d",
   "metadata": {},
   "outputs": [],
   "source": [
    "# Flatten each array-containing column\n",
    "flattened_emb_all = flatten_column(merged_undersample, 'bert_emb_art')\n",
    "flattened_emb_max = flatten_column(merged_undersample, 'bert_emb_max')\n",
    "flattened_emb_min = flatten_column(merged_undersample, 'bert_emb_min')\n",
    "flattened_lexicon = flatten_column(merged_undersample, 'count_features')\n",
    "\n",
    "# Concatenate the flattened DataFrames with the rest of the DataFrame\n",
    "merged_undersample = pd.concat([flattened_emb_all, flattened_emb_max, flattened_emb_min, flattened_lexicon,\n",
    "                                merged_undersample.drop(columns=['comb_emb', 'text', 'cleaned_article', 'bert_emb_art', 'bert_emb_max', 'bert_emb_min', 'count_features'])], axis=1)"
   ]
  },
  {
   "cell_type": "markdown",
   "id": "fd72f8dd-198e-4d24-8255-fd51cb33dc76",
   "metadata": {},
   "source": [
    "#### Train/Val/Test Split"
   ]
  },
  {
   "cell_type": "code",
   "execution_count": 54,
   "id": "c3f96924-b896-446e-b375-8e011c17a309",
   "metadata": {},
   "outputs": [],
   "source": [
    "# Splitting the data into features and label\n",
    "X = merged_undersample.drop('overall_label', axis=1)\n",
    "y = merged_undersample['overall_label']\n",
    "\n",
    "# First split into training (80%) and test (20%)\n",
    "X_train_test, X_test, y_train_test, y_test = train_test_split(X, y, test_size=0.2, random_state=42)\n",
    "# Further split training (80%) into training (70%) and validation (30%)\n",
    "X_train, X_val, y_train, y_val = train_test_split(X_train_test, y_train_test, test_size=0.3, random_state=42)"
   ]
  },
  {
   "cell_type": "code",
   "execution_count": 55,
   "id": "6bf6b815-9340-4ca7-876f-6687a3463fce",
   "metadata": {},
   "outputs": [],
   "source": [
    "# Create the LightGBM dataset\n",
    "dtrain = lgb.Dataset(X_train, label=y_train, categorical_feature=['sent_score', 'emotion_num'], free_raw_data=False)\n",
    "dval = lgb.Dataset(X_val, label=y_val, categorical_feature=['sent_score', 'emotion_num'], free_raw_data=False)"
   ]
  },
  {
   "cell_type": "markdown",
   "id": "5f374b5d-2c8c-464f-8e03-365fef858285",
   "metadata": {},
   "source": [
    "#### Optuna Hyperparameter Optimization"
   ]
  },
  {
   "cell_type": "code",
   "execution_count": 56,
   "id": "eedeb62e-f5c1-4595-b778-457f4a64a665",
   "metadata": {},
   "outputs": [],
   "source": [
    "fixed_params = {\n",
    "        \"feature_pre_filter\": False,\n",
    "        'device_type': 'gpu', \n",
    "        'gpu_platform_id': 1, \n",
    "        'gpu_device_id': 0, \n",
    "        'gpu_use_dp': True,\n",
    "        'objective': 'binary',\n",
    "        'metric': 'binary_logloss',\n",
    "        'verbose': -1,\n",
    "        'boosting': 'gbdt'\n",
    "}"
   ]
  },
  {
   "cell_type": "code",
   "execution_count": 57,
   "id": "8ecabf42-3f17-49a6-bfa1-d11d40d3223a",
   "metadata": {},
   "outputs": [],
   "source": [
    "def objective(trial):\n",
    "    # Tunable hyperparameters\n",
    "    param_tuning = {\n",
    "        \"max_depth\": trial.suggest_int(\"max_depth\", 1, 50),\n",
    "        \"learning_rate\": round(trial.suggest_float(\"learning_rate\", 1e-5, 0.1), 3),\n",
    "        \"num_leaves\": trial.suggest_int(\"num_leaves\", 20, 300),\n",
    "        \"feature_fraction\": round(trial.suggest_float(\"feature_fraction\", 0.1, 1.0), 3),\n",
    "        \"min_gain_to_split\": round(trial.suggest_float(\"min_gain_to_split\", 0, 1.0), 3),\n",
    "        \"min_data_in_leaf\": trial.suggest_int(\"min_data_in_leaf\", 20, 200),\n",
    "        \"lambda_l1\": round(trial.suggest_float(\"lambda_l1\", 0, 5.0), 3),\n",
    "        \"lambda_l2\": round(trial.suggest_float(\"lambda_l2\", 0, 5.0), 3),\n",
    "    }    \n",
    "\n",
    "    # Combine fixed and tunable hyperparameters\n",
    "    params = {**param_tuning, **fixed_params}\n",
    "\n",
    "    # Train the model\n",
    "    clf = lgb.train(params, dtrain, valid_sets=[dtrain, dval], num_boost_round=1000, callbacks=[lgb.early_stopping(25)])\n",
    "\n",
    "    # Calculate and return the performance metric\n",
    "    y_pred = clf.predict(X_test)\n",
    "    trial.set_user_attr('predictions', y_pred)\n",
    "    # metric = log_loss(y_test, y_pred)\n",
    "    y_pred_binary = (y_pred >= 0.5).astype(int)\n",
    "    f1 = get_metric(y_test, y_pred_binary)\n",
    "    metric = f1.loc[f1['Metric'] == 'F1 Score (Positive)']['Value'].values[0]\n",
    "    return metric"
   ]
  },
  {
   "cell_type": "code",
   "execution_count": 58,
   "id": "02589cfc-72eb-4a13-bd1a-922b0b58de5b",
   "metadata": {
    "scrolled": true
   },
   "outputs": [
    {
     "name": "stderr",
     "output_type": "stream",
     "text": [
      "[I 2024-01-01 11:50:46,451] A new study created in memory with name: no-name-3f5fef8c-d695-45a5-821a-ca3d529d5e5c\n"
     ]
    },
    {
     "name": "stdout",
     "output_type": "stream",
     "text": [
      "Training until validation scores don't improve for 25 rounds\n",
      "Early stopping, best iteration is:\n",
      "[297]\ttraining's binary_logloss: 0.223928\tvalid_1's binary_logloss: 0.454065\n"
     ]
    },
    {
     "name": "stderr",
     "output_type": "stream",
     "text": [
      "[I 2024-01-01 11:51:02,151] Trial 0 finished with value: 0.7748953974895398 and parameters: {'max_depth': 45, 'learning_rate': 0.03419633825293263, 'num_leaves': 262, 'feature_fraction': 0.7449250644183572, 'min_gain_to_split': 0.8853712080757561, 'min_data_in_leaf': 154, 'lambda_l1': 4.655993996873033, 'lambda_l2': 0.5319954997452309}. Best is trial 0 with value: 0.7748953974895398.\n"
     ]
    },
    {
     "name": "stdout",
     "output_type": "stream",
     "text": [
      "                 Metric     Value\n",
      "0  Precision (Positive)  0.767828\n",
      "1     Recall (Positive)  0.782095\n",
      "2   F1 Score (Positive)  0.774895\n",
      "3  Precision (Negative)  0.785714\n",
      "4     Recall (Negative)  0.771615\n",
      "5   F1 Score (Negative)  0.778601\n",
      "Training until validation scores don't improve for 25 rounds\n",
      "Early stopping, best iteration is:\n",
      "[267]\ttraining's binary_logloss: 0.189882\tvalid_1's binary_logloss: 0.450622\n"
     ]
    },
    {
     "name": "stderr",
     "output_type": "stream",
     "text": [
      "[I 2024-01-01 11:51:20,140] Trial 1 finished with value: 0.7766666666666666 and parameters: {'max_depth': 50, 'learning_rate': 0.037005440858382484, 'num_leaves': 57, 'feature_fraction': 0.9437926742493896, 'min_gain_to_split': 0.00761335701581578, 'min_data_in_leaf': 123, 'lambda_l1': 3.8592305785394414, 'lambda_l2': 3.977272502137525}. Best is trial 1 with value: 0.7766666666666666.\n"
     ]
    },
    {
     "name": "stdout",
     "output_type": "stream",
     "text": [
      "                 Metric     Value\n",
      "0  Precision (Positive)  0.766447\n",
      "1     Recall (Positive)  0.787162\n",
      "2   F1 Score (Positive)  0.776667\n",
      "3  Precision (Negative)  0.788945\n",
      "4     Recall (Negative)  0.768352\n",
      "5   F1 Score (Negative)  0.778512\n",
      "Training until validation scores don't improve for 25 rounds\n",
      "Early stopping, best iteration is:\n",
      "[116]\ttraining's binary_logloss: 0.171833\tvalid_1's binary_logloss: 0.455117\n"
     ]
    },
    {
     "name": "stderr",
     "output_type": "stream",
     "text": [
      "[I 2024-01-01 11:51:30,649] Trial 2 finished with value: 0.7829716193656094 and parameters: {'max_depth': 8, 'learning_rate': 0.05830652630465602, 'num_leaves': 211, 'feature_fraction': 0.6818023272847328, 'min_gain_to_split': 0.5186954788987678, 'min_data_in_leaf': 39, 'lambda_l1': 4.691868553565909, 'lambda_l2': 0.08825513000212282}. Best is trial 2 with value: 0.7829716193656094.\n"
     ]
    },
    {
     "name": "stdout",
     "output_type": "stream",
     "text": [
      "                 Metric     Value\n",
      "0  Precision (Positive)  0.773927\n",
      "1     Recall (Positive)  0.792230\n",
      "2   F1 Score (Positive)  0.782972\n",
      "3  Precision (Negative)  0.794658\n",
      "4     Recall (Negative)  0.776509\n",
      "5   F1 Score (Negative)  0.785479\n",
      "Training until validation scores don't improve for 25 rounds\n",
      "Early stopping, best iteration is:\n",
      "[155]\ttraining's binary_logloss: 0.177972\tvalid_1's binary_logloss: 0.450769\n"
     ]
    },
    {
     "name": "stderr",
     "output_type": "stream",
     "text": [
      "[I 2024-01-01 11:51:38,522] Trial 3 finished with value: 0.773978315262719 and parameters: {'max_depth': 17, 'learning_rate': 0.07305171503987394, 'num_leaves': 281, 'feature_fraction': 0.6474795223665686, 'min_gain_to_split': 0.3716036252863959, 'min_data_in_leaf': 153, 'lambda_l1': 2.239348272521572, 'lambda_l2': 2.9129088266413543}. Best is trial 2 with value: 0.7829716193656094.\n"
     ]
    },
    {
     "name": "stdout",
     "output_type": "stream",
     "text": [
      "                 Metric     Value\n",
      "0  Precision (Positive)  0.764415\n",
      "1     Recall (Positive)  0.783784\n",
      "2   F1 Score (Positive)  0.773978\n",
      "3  Precision (Negative)  0.785953\n",
      "4     Recall (Negative)  0.766721\n",
      "5   F1 Score (Negative)  0.776218\n",
      "Training until validation scores don't improve for 25 rounds\n",
      "Early stopping, best iteration is:\n",
      "[157]\ttraining's binary_logloss: 0.134412\tvalid_1's binary_logloss: 0.456393\n"
     ]
    },
    {
     "name": "stderr",
     "output_type": "stream",
     "text": [
      "[I 2024-01-01 11:51:50,937] Trial 4 finished with value: 0.7644593461860855 and parameters: {'max_depth': 7, 'learning_rate': 0.06452475445591073, 'num_leaves': 270, 'feature_fraction': 0.2149540646798015, 'min_gain_to_split': 0.1308520975120978, 'min_data_in_leaf': 56, 'lambda_l1': 2.3233491687842744, 'lambda_l2': 3.4366560667339394}. Best is trial 2 with value: 0.7829716193656094.\n"
     ]
    },
    {
     "name": "stdout",
     "output_type": "stream",
     "text": [
      "                 Metric     Value\n",
      "0  Precision (Positive)  0.758735\n",
      "1     Recall (Positive)  0.770270\n",
      "2   F1 Score (Positive)  0.764459\n",
      "3  Precision (Negative)  0.774834\n",
      "4     Recall (Negative)  0.763458\n",
      "5   F1 Score (Negative)  0.769104\n",
      "Training until validation scores don't improve for 25 rounds\n",
      "Early stopping, best iteration is:\n",
      "[151]\ttraining's binary_logloss: 0.187334\tvalid_1's binary_logloss: 0.452625\n"
     ]
    },
    {
     "name": "stderr",
     "output_type": "stream",
     "text": [
      "[I 2024-01-01 11:52:01,319] Trial 5 finished with value: 0.7798319327731092 and parameters: {'max_depth': 13, 'learning_rate': 0.057039511781957486, 'num_leaves': 266, 'feature_fraction': 0.9363959063008476, 'min_gain_to_split': 0.96486612689695, 'min_data_in_leaf': 106, 'lambda_l1': 1.7759203824873677, 'lambda_l2': 4.546583468034649}. Best is trial 2 with value: 0.7829716193656094.\n"
     ]
    },
    {
     "name": "stdout",
     "output_type": "stream",
     "text": [
      "                 Metric     Value\n",
      "0  Precision (Positive)  0.775920\n",
      "1     Recall (Positive)  0.783784\n",
      "2   F1 Score (Positive)  0.779832\n",
      "3  Precision (Negative)  0.789127\n",
      "4     Recall (Negative)  0.781403\n",
      "5   F1 Score (Negative)  0.785246\n",
      "Training until validation scores don't improve for 25 rounds\n",
      "Early stopping, best iteration is:\n",
      "[438]\ttraining's binary_logloss: 0.190615\tvalid_1's binary_logloss: 0.450313\n"
     ]
    },
    {
     "name": "stderr",
     "output_type": "stream",
     "text": [
      "[I 2024-01-01 11:52:22,280] Trial 6 finished with value: 0.7761944677284159 and parameters: {'max_depth': 8, 'learning_rate': 0.022229954499061583, 'num_leaves': 268, 'feature_fraction': 0.6931662244532808, 'min_gain_to_split': 0.8143001886729324, 'min_data_in_leaf': 93, 'lambda_l1': 4.585826327213313, 'lambda_l2': 0.2712772214124842}. Best is trial 2 with value: 0.7829716193656094.\n"
     ]
    },
    {
     "name": "stdout",
     "output_type": "stream",
     "text": [
      "                 Metric     Value\n",
      "0  Precision (Positive)  0.770383\n",
      "1     Recall (Positive)  0.782095\n",
      "2   F1 Score (Positive)  0.776194\n",
      "3  Precision (Negative)  0.786424\n",
      "4     Recall (Negative)  0.774878\n",
      "5   F1 Score (Negative)  0.780608\n",
      "Training until validation scores don't improve for 25 rounds\n",
      "Early stopping, best iteration is:\n",
      "[109]\ttraining's binary_logloss: 0.171692\tvalid_1's binary_logloss: 0.45531\n"
     ]
    },
    {
     "name": "stderr",
     "output_type": "stream",
     "text": [
      "[I 2024-01-01 11:52:29,268] Trial 7 finished with value: 0.7734439834024897 and parameters: {'max_depth': 6, 'learning_rate': 0.08594432136595316, 'num_leaves': 184, 'feature_fraction': 0.7206164477266604, 'min_gain_to_split': 0.5580869792581653, 'min_data_in_leaf': 70, 'lambda_l1': 3.38401210320772, 'lambda_l2': 3.753802629430721}. Best is trial 2 with value: 0.7829716193656094.\n"
     ]
    },
    {
     "name": "stdout",
     "output_type": "stream",
     "text": [
      "                 Metric     Value\n",
      "0  Precision (Positive)  0.760196\n",
      "1     Recall (Positive)  0.787162\n",
      "2   F1 Score (Positive)  0.773444\n",
      "3  Precision (Negative)  0.787162\n",
      "4     Recall (Negative)  0.760196\n",
      "5   F1 Score (Negative)  0.773444\n",
      "Training until validation scores don't improve for 25 rounds\n",
      "Early stopping, best iteration is:\n",
      "[260]\ttraining's binary_logloss: 0.109838\tvalid_1's binary_logloss: 0.469095\n"
     ]
    },
    {
     "name": "stderr",
     "output_type": "stream",
     "text": [
      "[I 2024-01-01 11:52:58,600] Trial 8 finished with value: 0.7514743049705138 and parameters: {'max_depth': 18, 'learning_rate': 0.04082450949302211, 'num_leaves': 117, 'feature_fraction': 0.12320691674055811, 'min_gain_to_split': 0.14637472845708632, 'min_data_in_leaf': 20, 'lambda_l1': 3.7721160485397953, 'lambda_l2': 1.9393917116180166}. Best is trial 2 with value: 0.7829716193656094.\n"
     ]
    },
    {
     "name": "stdout",
     "output_type": "stream",
     "text": [
      "                 Metric     Value\n",
      "0  Precision (Positive)  0.749580\n",
      "1     Recall (Positive)  0.753378\n",
      "2   F1 Score (Positive)  0.751474\n",
      "3  Precision (Negative)  0.760656\n",
      "4     Recall (Negative)  0.756933\n",
      "5   F1 Score (Negative)  0.758790\n",
      "Training until validation scores don't improve for 25 rounds\n",
      "Early stopping, best iteration is:\n",
      "[154]\ttraining's binary_logloss: 0.198032\tvalid_1's binary_logloss: 0.452181\n"
     ]
    },
    {
     "name": "stderr",
     "output_type": "stream",
     "text": [
      "[I 2024-01-01 11:53:19,043] Trial 9 finished with value: 0.7803660565723793 and parameters: {'max_depth': 48, 'learning_rate': 0.03341878514679572, 'num_leaves': 168, 'feature_fraction': 0.8913687059841104, 'min_gain_to_split': 0.3999912244495346, 'min_data_in_leaf': 81, 'lambda_l1': 1.1655175318762283, 'lambda_l2': 0.303531899840323}. Best is trial 2 with value: 0.7829716193656094.\n"
     ]
    },
    {
     "name": "stdout",
     "output_type": "stream",
     "text": [
      "                 Metric     Value\n",
      "0  Precision (Positive)  0.768852\n",
      "1     Recall (Positive)  0.792230\n",
      "2   F1 Score (Positive)  0.780366\n",
      "3  Precision (Negative)  0.793277\n",
      "4     Recall (Negative)  0.769984\n",
      "5   F1 Score (Negative)  0.781457\n",
      "Training until validation scores don't improve for 25 rounds\n",
      "Did not meet early stopping. Best iteration is:\n",
      "[999]\ttraining's binary_logloss: 0.229506\tvalid_1's binary_logloss: 0.455641\n"
     ]
    },
    {
     "name": "stderr",
     "output_type": "stream",
     "text": [
      "[I 2024-01-01 11:54:02,346] Trial 10 finished with value: 0.7702589807852965 and parameters: {'max_depth': 32, 'learning_rate': 0.01045694969779501, 'num_leaves': 213, 'feature_fraction': 0.39863544608964196, 'min_gain_to_split': 0.6654794157194478, 'min_data_in_leaf': 199, 'lambda_l1': 0.9069595861102508, 'lambda_l2': 1.6411349001756976}. Best is trial 2 with value: 0.7829716193656094.\n"
     ]
    },
    {
     "name": "stdout",
     "output_type": "stream",
     "text": [
      "                 Metric     Value\n",
      "0  Precision (Positive)  0.761983\n",
      "1     Recall (Positive)  0.778716\n",
      "2   F1 Score (Positive)  0.770259\n",
      "3  Precision (Negative)  0.781667\n",
      "4     Recall (Negative)  0.765090\n",
      "5   F1 Score (Negative)  0.773289\n",
      "Training until validation scores don't improve for 25 rounds\n",
      "Early stopping, best iteration is:\n",
      "[37]\ttraining's binary_logloss: 0.116896\tvalid_1's binary_logloss: 0.462162\n"
     ]
    },
    {
     "name": "stderr",
     "output_type": "stream",
     "text": [
      "[I 2024-01-01 11:54:15,466] Trial 11 finished with value: 0.7649006622516556 and parameters: {'max_depth': 32, 'learning_rate': 0.09984477737962119, 'num_leaves': 113, 'feature_fraction': 0.49523958995325035, 'min_gain_to_split': 0.38391610287461375, 'min_data_in_leaf': 22, 'lambda_l1': 0.12633343831285093, 'lambda_l2': 0.9894522167966517}. Best is trial 2 with value: 0.7829716193656094.\n"
     ]
    },
    {
     "name": "stdout",
     "output_type": "stream",
     "text": [
      "                 Metric     Value\n",
      "0  Precision (Positive)  0.750000\n",
      "1     Recall (Positive)  0.780405\n",
      "2   F1 Score (Positive)  0.764901\n",
      "3  Precision (Negative)  0.779287\n",
      "4     Recall (Negative)  0.748777\n",
      "5   F1 Score (Negative)  0.763727\n",
      "Training until validation scores don't improve for 25 rounds\n",
      "Early stopping, best iteration is:\n",
      "[148]\ttraining's binary_logloss: 0.100239\tvalid_1's binary_logloss: 0.450306\n"
     ]
    },
    {
     "name": "stderr",
     "output_type": "stream",
     "text": [
      "[I 2024-01-01 11:54:35,842] Trial 12 finished with value: 0.7787903893951948 and parameters: {'max_depth': 38, 'learning_rate': 0.05143813548265611, 'num_leaves': 203, 'feature_fraction': 0.8330004157260402, 'min_gain_to_split': 0.3478050798621572, 'min_data_in_leaf': 58, 'lambda_l1': 1.3326411582105289, 'lambda_l2': 0.18069998535186593}. Best is trial 2 with value: 0.7829716193656094.\n"
     ]
    },
    {
     "name": "stdout",
     "output_type": "stream",
     "text": [
      "                 Metric     Value\n",
      "0  Precision (Positive)  0.764228\n",
      "1     Recall (Positive)  0.793919\n",
      "2   F1 Score (Positive)  0.778790\n",
      "3  Precision (Negative)  0.793220\n",
      "4     Recall (Negative)  0.763458\n",
      "5   F1 Score (Negative)  0.778055\n",
      "Training until validation scores don't improve for 25 rounds\n",
      "Did not meet early stopping. Best iteration is:\n",
      "[1000]\ttraining's binary_logloss: 0.284841\tvalid_1's binary_logloss: 0.458476\n"
     ]
    },
    {
     "name": "stderr",
     "output_type": "stream",
     "text": [
      "[I 2024-01-01 11:55:53,475] Trial 13 finished with value: 0.774354704412989 and parameters: {'max_depth': 26, 'learning_rate': 0.003752304564904104, 'num_leaves': 145, 'feature_fraction': 0.5575572127944463, 'min_gain_to_split': 0.6138828795065486, 'min_data_in_leaf': 79, 'lambda_l1': 3.069944450620835, 'lambda_l2': 1.2131333472649994}. Best is trial 2 with value: 0.7829716193656094.\n"
     ]
    },
    {
     "name": "stdout",
     "output_type": "stream",
     "text": [
      "                 Metric     Value\n",
      "0  Precision (Positive)  0.763547\n",
      "1     Recall (Positive)  0.785473\n",
      "2   F1 Score (Positive)  0.774355\n",
      "3  Precision (Negative)  0.786913\n",
      "4     Recall (Negative)  0.765090\n",
      "5   F1 Score (Negative)  0.775848\n",
      "Training until validation scores don't improve for 25 rounds\n",
      "Early stopping, best iteration is:\n",
      "[198]\ttraining's binary_logloss: 0.147711\tvalid_1's binary_logloss: 0.448801\n"
     ]
    },
    {
     "name": "stderr",
     "output_type": "stream",
     "text": [
      "[I 2024-01-01 11:56:30,674] Trial 14 finished with value: 0.7813798836242727 and parameters: {'max_depth': 25, 'learning_rate': 0.023707078618982424, 'num_leaves': 219, 'feature_fraction': 0.8506660179959562, 'min_gain_to_split': 0.4586323103111499, 'min_data_in_leaf': 42, 'lambda_l1': 0.4189945338084682, 'lambda_l2': 2.3853894206079373}. Best is trial 2 with value: 0.7829716193656094.\n"
     ]
    },
    {
     "name": "stdout",
     "output_type": "stream",
     "text": [
      "                 Metric     Value\n",
      "0  Precision (Positive)  0.769231\n",
      "1     Recall (Positive)  0.793919\n",
      "2   F1 Score (Positive)  0.781380\n",
      "3  Precision (Negative)  0.794613\n",
      "4     Recall (Negative)  0.769984\n",
      "5   F1 Score (Negative)  0.782104\n",
      "Training until validation scores don't improve for 25 rounds\n",
      "Early stopping, best iteration is:\n",
      "[844]\ttraining's binary_logloss: 0.334301\tvalid_1's binary_logloss: 0.461573\n"
     ]
    },
    {
     "name": "stderr",
     "output_type": "stream",
     "text": [
      "[I 2024-01-01 11:56:45,569] Trial 15 finished with value: 0.7676767676767677 and parameters: {'max_depth': 2, 'learning_rate': 0.021868612614016222, 'num_leaves': 225, 'feature_fraction': 0.37876870172336313, 'min_gain_to_split': 0.7166448820556943, 'min_data_in_leaf': 44, 'lambda_l1': 0.02011280865748788, 'lambda_l2': 2.3923128340083446}. Best is trial 2 with value: 0.7829716193656094.\n"
     ]
    },
    {
     "name": "stdout",
     "output_type": "stream",
     "text": [
      "                 Metric     Value\n",
      "0  Precision (Positive)  0.765101\n",
      "1     Recall (Positive)  0.770270\n",
      "2   F1 Score (Positive)  0.767677\n",
      "3  Precision (Negative)  0.776683\n",
      "4     Recall (Negative)  0.771615\n",
      "5   F1 Score (Negative)  0.774141\n",
      "Training until validation scores don't improve for 25 rounds\n",
      "Early stopping, best iteration is:\n",
      "[85]\ttraining's binary_logloss: 0.172165\tvalid_1's binary_logloss: 0.451947\n"
     ]
    },
    {
     "name": "stderr",
     "output_type": "stream",
     "text": [
      "[I 2024-01-01 11:56:58,400] Trial 16 finished with value: 0.7778695293146161 and parameters: {'max_depth': 22, 'learning_rate': 0.0683091846904785, 'num_leaves': 234, 'feature_fraction': 0.8059946876672599, 'min_gain_to_split': 0.4864657457391898, 'min_data_in_leaf': 37, 'lambda_l1': 2.868850095187182, 'lambda_l2': 4.973411901329249}. Best is trial 2 with value: 0.7829716193656094.\n"
     ]
    },
    {
     "name": "stdout",
     "output_type": "stream",
     "text": [
      "                 Metric     Value\n",
      "0  Precision (Positive)  0.760905\n",
      "1     Recall (Positive)  0.795608\n",
      "2   F1 Score (Positive)  0.777870\n",
      "3  Precision (Negative)  0.793515\n",
      "4     Recall (Negative)  0.758564\n",
      "5   F1 Score (Negative)  0.775646\n",
      "Training until validation scores don't improve for 25 rounds\n",
      "Early stopping, best iteration is:\n",
      "[425]\ttraining's binary_logloss: 0.171815\tvalid_1's binary_logloss: 0.445776\n"
     ]
    },
    {
     "name": "stderr",
     "output_type": "stream",
     "text": [
      "[I 2024-01-01 11:57:30,076] Trial 17 finished with value: 0.7761944677284159 and parameters: {'max_depth': 12, 'learning_rate': 0.020874280108692887, 'num_leaves': 24, 'feature_fraction': 0.6011951101452193, 'min_gain_to_split': 0.270010737704073, 'min_data_in_leaf': 122, 'lambda_l1': 0.7705443623867385, 'lambda_l2': 2.8546692894977}. Best is trial 2 with value: 0.7829716193656094.\n"
     ]
    },
    {
     "name": "stdout",
     "output_type": "stream",
     "text": [
      "                 Metric     Value\n",
      "0  Precision (Positive)  0.770383\n",
      "1     Recall (Positive)  0.782095\n",
      "2   F1 Score (Positive)  0.776194\n",
      "3  Precision (Negative)  0.786424\n",
      "4     Recall (Negative)  0.774878\n",
      "5   F1 Score (Negative)  0.780608\n",
      "Training until validation scores don't improve for 25 rounds\n",
      "Early stopping, best iteration is:\n",
      "[157]\ttraining's binary_logloss: 0.158094\tvalid_1's binary_logloss: 0.457571\n"
     ]
    },
    {
     "name": "stderr",
     "output_type": "stream",
     "text": [
      "[I 2024-01-01 11:57:48,449] Trial 18 finished with value: 0.7826086956521738 and parameters: {'max_depth': 27, 'learning_rate': 0.04608880543189234, 'num_leaves': 146, 'feature_fraction': 0.8021066380349255, 'min_gain_to_split': 0.4938293893284014, 'min_data_in_leaf': 40, 'lambda_l1': 4.136653320925657, 'lambda_l2': 2.0278849950818896}. Best is trial 2 with value: 0.7829716193656094.\n"
     ]
    },
    {
     "name": "stdout",
     "output_type": "stream",
     "text": [
      "                 Metric     Value\n",
      "0  Precision (Positive)  0.774834\n",
      "1     Recall (Positive)  0.790541\n",
      "2   F1 Score (Positive)  0.782609\n",
      "3  Precision (Negative)  0.793677\n",
      "4     Recall (Negative)  0.778140\n",
      "5   F1 Score (Negative)  0.785832\n",
      "Training until validation scores don't improve for 25 rounds\n",
      "Early stopping, best iteration is:\n",
      "[100]\ttraining's binary_logloss: 0.201302\tvalid_1's binary_logloss: 0.457419\n"
     ]
    },
    {
     "name": "stderr",
     "output_type": "stream",
     "text": [
      "[I 2024-01-01 11:57:57,714] Trial 19 finished with value: 0.77 and parameters: {'max_depth': 34, 'learning_rate': 0.07969575601491263, 'num_leaves': 134, 'feature_fraction': 0.469770406507116, 'min_gain_to_split': 0.7717900210771563, 'min_data_in_leaf': 62, 'lambda_l1': 4.984488688564374, 'lambda_l2': 0.9780293761884586}. Best is trial 2 with value: 0.7829716193656094.\n"
     ]
    },
    {
     "name": "stdout",
     "output_type": "stream",
     "text": [
      "                 Metric     Value\n",
      "0  Precision (Positive)  0.759868\n",
      "1     Recall (Positive)  0.780405\n",
      "2   F1 Score (Positive)  0.770000\n",
      "3  Precision (Negative)  0.782245\n",
      "4     Recall (Negative)  0.761827\n",
      "5   F1 Score (Negative)  0.771901\n",
      "Training until validation scores don't improve for 25 rounds\n",
      "Early stopping, best iteration is:\n",
      "[610]\ttraining's binary_logloss: 0.416128\tvalid_1's binary_logloss: 0.475614\n"
     ]
    },
    {
     "name": "stderr",
     "output_type": "stream",
     "text": [
      "[I 2024-01-01 11:58:04,631] Trial 20 finished with value: 0.7569856054191364 and parameters: {'max_depth': 1, 'learning_rate': 0.049887810726966235, 'num_leaves': 90, 'feature_fraction': 0.9872448022397627, 'min_gain_to_split': 0.5628054387781387, 'min_data_in_leaf': 146, 'lambda_l1': 4.148852306502262, 'lambda_l2': 1.6798393354883632}. Best is trial 2 with value: 0.7829716193656094.\n"
     ]
    },
    {
     "name": "stdout",
     "output_type": "stream",
     "text": [
      "                 Metric     Value\n",
      "0  Precision (Positive)  0.758913\n",
      "1     Recall (Positive)  0.755068\n",
      "2   F1 Score (Positive)  0.756986\n",
      "3  Precision (Negative)  0.764610\n",
      "4     Recall (Negative)  0.768352\n",
      "5   F1 Score (Negative)  0.766477\n",
      "Training until validation scores don't improve for 25 rounds\n",
      "Early stopping, best iteration is:\n",
      "[134]\ttraining's binary_logloss: 0.165369\tvalid_1's binary_logloss: 0.450601\n"
     ]
    },
    {
     "name": "stderr",
     "output_type": "stream",
     "text": [
      "[I 2024-01-01 11:58:21,283] Trial 21 finished with value: 0.7710241465445461 and parameters: {'max_depth': 25, 'learning_rate': 0.0497081660675729, 'num_leaves': 186, 'feature_fraction': 0.8148568035496961, 'min_gain_to_split': 0.47117244764396005, 'min_data_in_leaf': 38, 'lambda_l1': 4.307076119979865, 'lambda_l2': 2.318042244248513}. Best is trial 2 with value: 0.7829716193656094.\n"
     ]
    },
    {
     "name": "stdout",
     "output_type": "stream",
     "text": [
      "                 Metric     Value\n",
      "0  Precision (Positive)  0.760263\n",
      "1     Recall (Positive)  0.782095\n",
      "2   F1 Score (Positive)  0.771024\n",
      "3  Precision (Negative)  0.783557\n",
      "4     Recall (Negative)  0.761827\n",
      "5   F1 Score (Negative)  0.772539\n",
      "Training until validation scores don't improve for 25 rounds\n",
      "Early stopping, best iteration is:\n",
      "[165]\ttraining's binary_logloss: 0.139077\tvalid_1's binary_logloss: 0.45337\n"
     ]
    },
    {
     "name": "stderr",
     "output_type": "stream",
     "text": [
      "[I 2024-01-01 11:58:34,716] Trial 22 finished with value: 0.7723102585487907 and parameters: {'max_depth': 39, 'learning_rate': 0.057645964517616596, 'num_leaves': 240, 'feature_fraction': 0.772795690743493, 'min_gain_to_split': 0.27414344045808686, 'min_data_in_leaf': 44, 'lambda_l1': 4.918227220107308, 'lambda_l2': 3.112921654934693}. Best is trial 2 with value: 0.7829716193656094.\n"
     ]
    },
    {
     "name": "stdout",
     "output_type": "stream",
     "text": [
      "                 Metric     Value\n",
      "0  Precision (Positive)  0.762768\n",
      "1     Recall (Positive)  0.782095\n",
      "2   F1 Score (Positive)  0.772310\n",
      "3  Precision (Negative)  0.784281\n",
      "4     Recall (Negative)  0.765090\n",
      "5   F1 Score (Negative)  0.774566\n",
      "Training until validation scores don't improve for 25 rounds\n",
      "Early stopping, best iteration is:\n",
      "[140]\ttraining's binary_logloss: 0.149348\tvalid_1's binary_logloss: 0.452812\n"
     ]
    },
    {
     "name": "stderr",
     "output_type": "stream",
     "text": [
      "[I 2024-01-01 11:58:49,891] Trial 23 finished with value: 0.7818181818181817 and parameters: {'max_depth': 27, 'learning_rate': 0.04316730471615803, 'num_leaves': 173, 'feature_fraction': 0.8796773809063707, 'min_gain_to_split': 0.47253592246760323, 'min_data_in_leaf': 28, 'lambda_l1': 3.5337448019133477, 'lambda_l2': 2.0518593351960774}. Best is trial 2 with value: 0.7829716193656094.\n"
     ]
    },
    {
     "name": "stdout",
     "output_type": "stream",
     "text": [
      "                 Metric     Value\n",
      "0  Precision (Positive)  0.765372\n",
      "1     Recall (Positive)  0.798986\n",
      "2   F1 Score (Positive)  0.781818\n",
      "3  Precision (Negative)  0.797274\n",
      "4     Recall (Negative)  0.763458\n",
      "5   F1 Score (Negative)  0.780000\n",
      "Training until validation scores don't improve for 25 rounds\n",
      "Early stopping, best iteration is:\n",
      "[154]\ttraining's binary_logloss: 0.141961\tvalid_1's binary_logloss: 0.451734\n"
     ]
    },
    {
     "name": "stderr",
     "output_type": "stream",
     "text": [
      "[I 2024-01-01 11:59:10,652] Trial 24 finished with value: 0.7843463780183182 and parameters: {'max_depth': 29, 'learning_rate': 0.04271575241352997, 'num_leaves': 154, 'feature_fraction': 0.6723828558421614, 'min_gain_to_split': 0.5835236561553855, 'min_data_in_leaf': 22, 'lambda_l1': 3.5044837021209445, 'lambda_l2': 1.3684848918419705}. Best is trial 24 with value: 0.7843463780183182.\n"
     ]
    },
    {
     "name": "stdout",
     "output_type": "stream",
     "text": [
      "                 Metric     Value\n",
      "0  Precision (Positive)  0.773399\n",
      "1     Recall (Positive)  0.795608\n",
      "2   F1 Score (Positive)  0.784346\n",
      "3  Precision (Negative)  0.796980\n",
      "4     Recall (Negative)  0.774878\n",
      "5   F1 Score (Negative)  0.785773\n",
      "Training until validation scores don't improve for 25 rounds\n",
      "Early stopping, best iteration is:\n",
      "[102]\ttraining's binary_logloss: 0.197008\tvalid_1's binary_logloss: 0.453208\n"
     ]
    },
    {
     "name": "stderr",
     "output_type": "stream",
     "text": [
      "[I 2024-01-01 11:59:21,602] Trial 25 finished with value: 0.7748953974895398 and parameters: {'max_depth': 20, 'learning_rate': 0.060625434250959745, 'num_leaves': 142, 'feature_fraction': 0.6657775314893817, 'min_gain_to_split': 0.6266201303681657, 'min_data_in_leaf': 55, 'lambda_l1': 4.153516533604282, 'lambda_l2': 1.3589923311164198}. Best is trial 24 with value: 0.7843463780183182.\n"
     ]
    },
    {
     "name": "stdout",
     "output_type": "stream",
     "text": [
      "                 Metric     Value\n",
      "0  Precision (Positive)  0.767828\n",
      "1     Recall (Positive)  0.782095\n",
      "2   F1 Score (Positive)  0.774895\n",
      "3  Precision (Negative)  0.785714\n",
      "4     Recall (Negative)  0.771615\n",
      "5   F1 Score (Negative)  0.778601\n",
      "Training until validation scores don't improve for 25 rounds\n",
      "Early stopping, best iteration is:\n",
      "[114]\ttraining's binary_logloss: 0.143823\tvalid_1's binary_logloss: 0.455569\n"
     ]
    },
    {
     "name": "stderr",
     "output_type": "stream",
     "text": [
      "[I 2024-01-01 11:59:39,967] Trial 26 finished with value: 0.7793505412156536 and parameters: {'max_depth': 29, 'learning_rate': 0.04554784402601603, 'num_leaves': 83, 'feature_fraction': 0.6162023506382274, 'min_gain_to_split': 0.5448986933438088, 'min_data_in_leaf': 20, 'lambda_l1': 2.9817587266612784, 'lambda_l2': 0.7242193254549476}. Best is trial 24 with value: 0.7843463780183182.\n"
     ]
    },
    {
     "name": "stdout",
     "output_type": "stream",
     "text": [
      "                 Metric     Value\n",
      "0  Precision (Positive)  0.768473\n",
      "1     Recall (Positive)  0.790541\n",
      "2   F1 Score (Positive)  0.779351\n",
      "3  Precision (Negative)  0.791946\n",
      "4     Recall (Negative)  0.769984\n",
      "5   F1 Score (Negative)  0.780811\n",
      "Training until validation scores don't improve for 25 rounds\n",
      "Early stopping, best iteration is:\n",
      "[136]\ttraining's binary_logloss: 0.178594\tvalid_1's binary_logloss: 0.450514\n"
     ]
    },
    {
     "name": "stderr",
     "output_type": "stream",
     "text": [
      "[I 2024-01-01 11:59:50,022] Trial 27 finished with value: 0.7793505412156536 and parameters: {'max_depth': 38, 'learning_rate': 0.0724104487336334, 'num_leaves': 158, 'feature_fraction': 0.516545018321245, 'min_gain_to_split': 0.7252604125221713, 'min_data_in_leaf': 91, 'lambda_l1': 3.8141026874127126, 'lambda_l2': 1.6334486888150597}. Best is trial 24 with value: 0.7843463780183182.\n"
     ]
    },
    {
     "name": "stdout",
     "output_type": "stream",
     "text": [
      "                 Metric     Value\n",
      "0  Precision (Positive)  0.768473\n",
      "1     Recall (Positive)  0.790541\n",
      "2   F1 Score (Positive)  0.779351\n",
      "3  Precision (Negative)  0.791946\n",
      "4     Recall (Negative)  0.769984\n",
      "5   F1 Score (Negative)  0.780811\n",
      "Training until validation scores don't improve for 25 rounds\n",
      "Early stopping, best iteration is:\n",
      "[117]\ttraining's binary_logloss: 0.146271\tvalid_1's binary_logloss: 0.446316\n"
     ]
    },
    {
     "name": "stderr",
     "output_type": "stream",
     "text": [
      "[I 2024-01-01 12:00:07,708] Trial 28 finished with value: 0.7755443886097153 and parameters: {'max_depth': 14, 'learning_rate': 0.05628365744793587, 'num_leaves': 198, 'feature_fraction': 0.7332415951024831, 'min_gain_to_split': 0.2807730557456672, 'min_data_in_leaf': 33, 'lambda_l1': 4.470893358237815, 'lambda_l2': 0.04809155422466782}. Best is trial 24 with value: 0.7843463780183182.\n"
     ]
    },
    {
     "name": "stdout",
     "output_type": "stream",
     "text": [
      "                 Metric     Value\n",
      "0  Precision (Positive)  0.769103\n",
      "1     Recall (Positive)  0.782095\n",
      "2   F1 Score (Positive)  0.775544\n",
      "3  Precision (Negative)  0.786070\n",
      "4     Recall (Negative)  0.773246\n",
      "5   F1 Score (Negative)  0.779605\n",
      "Training until validation scores don't improve for 25 rounds\n",
      "Early stopping, best iteration is:\n",
      "[319]\ttraining's binary_logloss: 0.239141\tvalid_1's binary_logloss: 0.453883\n"
     ]
    },
    {
     "name": "stderr",
     "output_type": "stream",
     "text": [
      "[I 2024-01-01 12:00:22,998] Trial 29 finished with value: 0.7705192629815745 and parameters: {'max_depth': 44, 'learning_rate': 0.030371383851541887, 'num_leaves': 244, 'feature_fraction': 0.741451038673684, 'min_gain_to_split': 0.9264645205289203, 'min_data_in_leaf': 186, 'lambda_l1': 3.3396652829267026, 'lambda_l2': 0.6848729125908215}. Best is trial 24 with value: 0.7843463780183182.\n"
     ]
    },
    {
     "name": "stdout",
     "output_type": "stream",
     "text": [
      "                 Metric     Value\n",
      "0  Precision (Positive)  0.764120\n",
      "1     Recall (Positive)  0.777027\n",
      "2   F1 Score (Positive)  0.770519\n",
      "3  Precision (Negative)  0.781095\n",
      "4     Recall (Negative)  0.768352\n",
      "5   F1 Score (Negative)  0.774671\n",
      "Training until validation scores don't improve for 25 rounds\n",
      "Early stopping, best iteration is:\n",
      "[95]\ttraining's binary_logloss: 0.161486\tvalid_1's binary_logloss: 0.450569\n"
     ]
    },
    {
     "name": "stderr",
     "output_type": "stream",
     "text": [
      "[I 2024-01-01 12:00:31,852] Trial 30 finished with value: 0.7712854757929882 and parameters: {'max_depth': 22, 'learning_rate': 0.0847725381684693, 'num_leaves': 113, 'feature_fraction': 0.5679410741315805, 'min_gain_to_split': 0.8568316771091875, 'min_data_in_leaf': 71, 'lambda_l1': 2.6480728494152137, 'lambda_l2': 0.5941411929271628}. Best is trial 24 with value: 0.7843463780183182.\n"
     ]
    },
    {
     "name": "stdout",
     "output_type": "stream",
     "text": [
      "                 Metric     Value\n",
      "0  Precision (Positive)  0.762376\n",
      "1     Recall (Positive)  0.780405\n",
      "2   F1 Score (Positive)  0.771285\n",
      "3  Precision (Negative)  0.782972\n",
      "4     Recall (Negative)  0.765090\n",
      "5   F1 Score (Negative)  0.773927\n",
      "Training until validation scores don't improve for 25 rounds\n",
      "Early stopping, best iteration is:\n",
      "[181]\ttraining's binary_logloss: 0.126467\tvalid_1's binary_logloss: 0.449117\n"
     ]
    },
    {
     "name": "stderr",
     "output_type": "stream",
     "text": [
      "[I 2024-01-01 12:00:54,499] Trial 31 finished with value: 0.7736006683375104 and parameters: {'max_depth': 28, 'learning_rate': 0.04254220218011128, 'num_leaves': 176, 'feature_fraction': 0.8935363130876995, 'min_gain_to_split': 0.43588184431581134, 'min_data_in_leaf': 30, 'lambda_l1': 3.490308370676657, 'lambda_l2': 2.033160654853738}. Best is trial 24 with value: 0.7843463780183182.\n"
     ]
    },
    {
     "name": "stdout",
     "output_type": "stream",
     "text": [
      "                 Metric     Value\n",
      "0  Precision (Positive)  0.765289\n",
      "1     Recall (Positive)  0.782095\n",
      "2   F1 Score (Positive)  0.773601\n",
      "3  Precision (Negative)  0.785000\n",
      "4     Recall (Negative)  0.768352\n",
      "5   F1 Score (Negative)  0.776587\n",
      "Training until validation scores don't improve for 25 rounds\n",
      "Early stopping, best iteration is:\n",
      "[214]\ttraining's binary_logloss: 0.167181\tvalid_1's binary_logloss: 0.447903\n"
     ]
    },
    {
     "name": "stderr",
     "output_type": "stream",
     "text": [
      "[I 2024-01-01 12:01:15,040] Trial 32 finished with value: 0.782392026578073 and parameters: {'max_depth': 30, 'learning_rate': 0.03617975096698845, 'num_leaves': 157, 'feature_fraction': 0.7768855821432341, 'min_gain_to_split': 0.6171437863908102, 'min_data_in_leaf': 50, 'lambda_l1': 4.055367299918939, 'lambda_l2': 2.0042615757083158}. Best is trial 24 with value: 0.7843463780183182.\n"
     ]
    },
    {
     "name": "stdout",
     "output_type": "stream",
     "text": [
      "                 Metric     Value\n",
      "0  Precision (Positive)  0.769608\n",
      "1     Recall (Positive)  0.795608\n",
      "2   F1 Score (Positive)  0.782392\n",
      "3  Precision (Negative)  0.795953\n",
      "4     Recall (Negative)  0.769984\n",
      "5   F1 Score (Negative)  0.782753\n",
      "Training until validation scores don't improve for 25 rounds\n",
      "Early stopping, best iteration is:\n",
      "[178]\ttraining's binary_logloss: 0.193433\tvalid_1's binary_logloss: 0.453927\n"
     ]
    },
    {
     "name": "stderr",
     "output_type": "stream",
     "text": [
      "[I 2024-01-01 12:01:33,767] Trial 33 finished with value: 0.7761194029850746 and parameters: {'max_depth': 35, 'learning_rate': 0.034845054463134226, 'num_leaves': 157, 'feature_fraction': 0.6832434416323825, 'min_gain_to_split': 0.6472181096887952, 'min_data_in_leaf': 48, 'lambda_l1': 3.9965658431790367, 'lambda_l2': 2.6648729699809808}. Best is trial 24 with value: 0.7843463780183182.\n"
     ]
    },
    {
     "name": "stdout",
     "output_type": "stream",
     "text": [
      "                 Metric     Value\n",
      "0  Precision (Positive)  0.762215\n",
      "1     Recall (Positive)  0.790541\n",
      "2   F1 Score (Positive)  0.776119\n",
      "3  Precision (Negative)  0.790186\n",
      "4     Recall (Negative)  0.761827\n",
      "5   F1 Score (Negative)  0.775748\n",
      "Training until validation scores don't improve for 25 rounds\n",
      "Early stopping, best iteration is:\n",
      "[276]\ttraining's binary_logloss: 0.165763\tvalid_1's binary_logloss: 0.452026\n"
     ]
    },
    {
     "name": "stderr",
     "output_type": "stream",
     "text": [
      "[I 2024-01-01 12:01:58,704] Trial 34 finished with value: 0.7777777777777778 and parameters: {'max_depth': 30, 'learning_rate': 0.03028345669273647, 'num_leaves': 128, 'feature_fraction': 0.7763844460527414, 'min_gain_to_split': 0.5562971059927944, 'min_data_in_leaf': 52, 'lambda_l1': 4.6238844573046, 'lambda_l2': 1.3601401999076375}. Best is trial 24 with value: 0.7843463780183182.\n"
     ]
    },
    {
     "name": "stdout",
     "output_type": "stream",
     "text": [
      "                 Metric     Value\n",
      "0  Precision (Positive)  0.763844\n",
      "1     Recall (Positive)  0.792230\n",
      "2   F1 Score (Positive)  0.777778\n",
      "3  Precision (Negative)  0.791878\n",
      "4     Recall (Negative)  0.763458\n",
      "5   F1 Score (Negative)  0.777409\n",
      "Training until validation scores don't improve for 25 rounds\n",
      "Early stopping, best iteration is:\n",
      "[231]\ttraining's binary_logloss: 0.187843\tvalid_1's binary_logloss: 0.453553\n"
     ]
    },
    {
     "name": "stderr",
     "output_type": "stream",
     "text": [
      "[I 2024-01-01 12:02:14,544] Trial 35 finished with value: 0.7870753935376966 and parameters: {'max_depth': 23, 'learning_rate': 0.037979714713869336, 'num_leaves': 289, 'feature_fraction': 0.6185488369939265, 'min_gain_to_split': 0.7097829105095946, 'min_data_in_leaf': 67, 'lambda_l1': 4.766665688224321, 'lambda_l2': 1.8151843843822457}. Best is trial 35 with value: 0.7870753935376966.\n"
     ]
    },
    {
     "name": "stdout",
     "output_type": "stream",
     "text": [
      "                 Metric     Value\n",
      "0  Precision (Positive)  0.772358\n",
      "1     Recall (Positive)  0.802365\n",
      "2   F1 Score (Positive)  0.787075\n",
      "3  Precision (Negative)  0.801695\n",
      "4     Recall (Negative)  0.771615\n",
      "5   F1 Score (Negative)  0.786367\n",
      "Training until validation scores don't improve for 25 rounds\n",
      "Early stopping, best iteration is:\n",
      "[132]\ttraining's binary_logloss: 0.18425\tvalid_1's binary_logloss: 0.453049\n"
     ]
    },
    {
     "name": "stderr",
     "output_type": "stream",
     "text": [
      "[I 2024-01-01 12:02:24,926] Trial 36 finished with value: 0.7726894254787677 and parameters: {'max_depth': 21, 'learning_rate': 0.06458415290564928, 'num_leaves': 299, 'feature_fraction': 0.6514371773177648, 'min_gain_to_split': 0.673867990514491, 'min_data_in_leaf': 68, 'lambda_l1': 4.793186637534358, 'lambda_l2': 1.1071405918799502}. Best is trial 35 with value: 0.7870753935376966.\n"
     ]
    },
    {
     "name": "stdout",
     "output_type": "stream",
     "text": [
      "                 Metric     Value\n",
      "0  Precision (Positive)  0.761905\n",
      "1     Recall (Positive)  0.783784\n",
      "2   F1 Score (Positive)  0.772689\n",
      "3  Precision (Negative)  0.785235\n",
      "4     Recall (Negative)  0.763458\n",
      "5   F1 Score (Negative)  0.774194\n",
      "Training until validation scores don't improve for 25 rounds\n",
      "Early stopping, best iteration is:\n",
      "[169]\ttraining's binary_logloss: 0.21855\tvalid_1's binary_logloss: 0.452285\n"
     ]
    },
    {
     "name": "stderr",
     "output_type": "stream",
     "text": [
      "[I 2024-01-01 12:02:36,586] Trial 37 finished with value: 0.7634228187919463 and parameters: {'max_depth': 9, 'learning_rate': 0.047885757683447765, 'num_leaves': 249, 'feature_fraction': 0.441498182880233, 'min_gain_to_split': 0.7479937842954067, 'min_data_in_leaf': 96, 'lambda_l1': 4.394047614786736, 'lambda_l2': 1.5239012518655537}. Best is trial 35 with value: 0.7870753935376966.\n"
     ]
    },
    {
     "name": "stdout",
     "output_type": "stream",
     "text": [
      "                 Metric     Value\n",
      "0  Precision (Positive)  0.758333\n",
      "1     Recall (Positive)  0.768581\n",
      "2   F1 Score (Positive)  0.763423\n",
      "3  Precision (Negative)  0.773554\n",
      "4     Recall (Negative)  0.763458\n",
      "5   F1 Score (Negative)  0.768473\n",
      "Training until validation scores don't improve for 25 rounds\n",
      "Early stopping, best iteration is:\n",
      "[232]\ttraining's binary_logloss: 0.189675\tvalid_1's binary_logloss: 0.45389\n"
     ]
    },
    {
     "name": "stderr",
     "output_type": "stream",
     "text": [
      "[I 2024-01-01 12:02:47,417] Trial 38 finished with value: 0.7731092436974789 and parameters: {'max_depth': 16, 'learning_rate': 0.05378256237377663, 'num_leaves': 286, 'feature_fraction': 0.6156232061223091, 'min_gain_to_split': 0.8054549836360709, 'min_data_in_leaf': 112, 'lambda_l1': 4.704100053860607, 'lambda_l2': 3.29365421836721}. Best is trial 35 with value: 0.7870753935376966.\n"
     ]
    },
    {
     "name": "stdout",
     "output_type": "stream",
     "text": [
      "                 Metric     Value\n",
      "0  Precision (Positive)  0.769231\n",
      "1     Recall (Positive)  0.777027\n",
      "2   F1 Score (Positive)  0.773109\n",
      "3  Precision (Negative)  0.782537\n",
      "4     Recall (Negative)  0.774878\n",
      "5   F1 Score (Negative)  0.778689\n",
      "Training until validation scores don't improve for 25 rounds\n",
      "Early stopping, best iteration is:\n",
      "[297]\ttraining's binary_logloss: 0.169063\tvalid_1's binary_logloss: 0.447681\n"
     ]
    },
    {
     "name": "stderr",
     "output_type": "stream",
     "text": [
      "[I 2024-01-01 12:03:03,809] Trial 39 finished with value: 0.7803660565723793 and parameters: {'max_depth': 18, 'learning_rate': 0.03939291897321198, 'num_leaves': 95, 'feature_fraction': 0.7094688619684812, 'min_gain_to_split': 0.5388647951230544, 'min_data_in_leaf': 140, 'lambda_l1': 2.1771693690860934, 'lambda_l2': 3.614872426276108}. Best is trial 35 with value: 0.7870753935376966.\n"
     ]
    },
    {
     "name": "stdout",
     "output_type": "stream",
     "text": [
      "                 Metric     Value\n",
      "0  Precision (Positive)  0.768852\n",
      "1     Recall (Positive)  0.792230\n",
      "2   F1 Score (Positive)  0.780366\n",
      "3  Precision (Negative)  0.793277\n",
      "4     Recall (Negative)  0.769984\n",
      "5   F1 Score (Negative)  0.781457\n",
      "------------------------------------------------------------\n",
      "Best parameters: {'max_depth': 23, 'learning_rate': 0.037979714713869336, 'num_leaves': 289, 'feature_fraction': 0.6185488369939265, 'min_gain_to_split': 0.7097829105095946, 'min_data_in_leaf': 67, 'lambda_l1': 4.766665688224321, 'lambda_l2': 1.8151843843822457}\n"
     ]
    }
   ],
   "source": [
    "study = optuna.create_study(direction=\"maximize\")\n",
    "study.optimize(objective, n_trials=40)\n",
    "\n",
    "# Get the best parameters\n",
    "best_params = study.best_params\n",
    "print(\"-\" * 60)\n",
    "print(\"Best parameters:\", best_params)"
   ]
  },
  {
   "cell_type": "code",
   "execution_count": 59,
   "id": "20751084-62d2-46be-a475-210fbc217e48",
   "metadata": {},
   "outputs": [],
   "source": [
    "top_trial = sorted(study.trials, key=lambda t: t.value, reverse=True)[:1]\n",
    "top_pred = [trial.user_attrs['predictions'] for trial in top_trial]\n",
    "avg_pred = np.mean([pred for pred in top_pred], axis=0)\n",
    "y_pred_binary = (avg_pred >= 0.50).astype(int)"
   ]
  },
  {
   "cell_type": "markdown",
   "id": "eee427d2-e0bd-44ec-8615-6597e7fadeaa",
   "metadata": {},
   "source": [
    "#### Train Best Model"
   ]
  },
  {
   "cell_type": "code",
   "execution_count": null,
   "id": "65841fcd-0261-48b3-9abf-24ecb1f725e0",
   "metadata": {
    "scrolled": true
   },
   "outputs": [],
   "source": [
    "# Define parameters\n",
    "final_params = {**best_params, **fixed_params}\n",
    "\n",
    "# Train the model\n",
    "lgb_early_stop = lgb.early_stopping(25)\n",
    "clf = lgb.train(params, dtrain, valid_sets=[dtrain, dval], num_boost_round=1000, callbacks=[lgb_early_stop])"
   ]
  },
  {
   "cell_type": "code",
   "execution_count": 244,
   "id": "df24420b-d0b8-4822-8a7f-2fc4e04a5673",
   "metadata": {},
   "outputs": [],
   "source": [
    "y_pred = clf.predict(X_test)\n",
    "y_pred_binary = (y_pred >= 0.5).astype(int)"
   ]
  },
  {
   "cell_type": "code",
   "execution_count": null,
   "id": "1ea7ee27-89ca-4354-bc69-00c8d2fa7947",
   "metadata": {},
   "outputs": [],
   "source": [
    "metric = get_metric(y_test, y_pred_binary)\n",
    "metric"
   ]
  },
  {
   "cell_type": "markdown",
   "id": "400b19d0-e24f-44a3-b90b-7bda48e32e3c",
   "metadata": {},
   "source": [
    "#### Train Stack Model"
   ]
  },
  {
   "cell_type": "code",
   "execution_count": 249,
   "id": "4f14080a-39d9-435f-8e63-b16601db6781",
   "metadata": {},
   "outputs": [],
   "source": [
    "y_train_pred = clf.predict(X_train)\n",
    "y_train_pred_binary = (y_train_pred >= 0.5).astype(int)\n",
    "\n",
    "y_val_pred = clf.predict(X_val)\n",
    "y_val_pred_binary = (y_val_pred >= 0.5).astype(int)"
   ]
  },
  {
   "cell_type": "code",
   "execution_count": 250,
   "id": "71fbb7fd-8c20-4844-b0f4-cc150c3fc273",
   "metadata": {},
   "outputs": [],
   "source": [
    "# Create the LightGBM dataset\n",
    "dtrain = lgb.Dataset(X_train, label=y_train_pred_binary, categorical_feature=['sent_score', 'emotion_num'], free_raw_data=False)\n",
    "dval = lgb.Dataset(X_val, label=y_val_pred_binary, categorical_feature=['sent_score', 'emotion_num'], free_raw_data=False)"
   ]
  },
  {
   "cell_type": "code",
   "execution_count": null,
   "id": "f0c2d013-fdf7-4510-adb3-216469d3ca26",
   "metadata": {},
   "outputs": [],
   "source": [
    "# Define parameters\n",
    "final_params = {**best_params, **fixed_params}\n",
    "\n",
    "# Train the model\n",
    "lgb_early_stop = lgb.early_stopping(25)\n",
    "clf = lgb.train(final_params, dtrain, valid_sets=[dtrain, dval], num_boost_round=1000, callbacks=[lgb_early_stop])"
   ]
  },
  {
   "cell_type": "code",
   "execution_count": 252,
   "id": "cc2a40ef-e884-41d8-b7fe-0438ee8563a3",
   "metadata": {},
   "outputs": [],
   "source": [
    "y_pred = clf.predict(X_test)\n",
    "y_pred_binary = (y_pred >= 0.5).astype(int)"
   ]
  },
  {
   "cell_type": "code",
   "execution_count": null,
   "id": "fd5d1f90-ea70-4ec4-b322-28704f1e6831",
   "metadata": {},
   "outputs": [],
   "source": [
    "metric = get_metric(y_test, y_pred_binary)\n",
    "metric"
   ]
  },
  {
   "cell_type": "markdown",
   "id": "8fb14437-42f8-4f79-9547-d3a7ecfdb262",
   "metadata": {},
   "source": [
    "#### Plot Gain/Split"
   ]
  },
  {
   "cell_type": "code",
   "execution_count": 129,
   "id": "57ab87f3-3477-49b0-9ae1-f4fcd50ef8f8",
   "metadata": {},
   "outputs": [],
   "source": [
    "gain = clf.feature_importance(importance_type='gain')\n",
    "split = clf.feature_importance(importance_type='split')\n",
    "feature_names = clf.feature_name()\n",
    "importance = pd.DataFrame({\n",
    "    'Feature Name': feature_names,\n",
    "    'Gain': gain,\n",
    "    'Split': split\n",
    "})\n",
    "importance_gain = importance.sort_values(by='Gain', ascending=False)\n",
    "importance_split = importance.sort_values(by='Split', ascending=False)"
   ]
  },
  {
   "cell_type": "code",
   "execution_count": null,
   "id": "0de9f6ce-2dd2-4a5c-91b9-2099e679d0e1",
   "metadata": {
    "scrolled": true
   },
   "outputs": [],
   "source": [
    "plt.figure(figsize=(20, 20))\n",
    "plt.barh(importance_gain['Feature Name'].head(100), importance_gain['Gain'].head(100), color='skyblue')\n",
    "plt.xlabel('Gain')\n",
    "plt.ylabel('Feature')\n",
    "plt.title('Gain')\n",
    "plt.show()"
   ]
  },
  {
   "cell_type": "code",
   "execution_count": null,
   "id": "9a96fa2d-76c3-4bcd-b8ec-d7087dd62b17",
   "metadata": {
    "scrolled": true
   },
   "outputs": [],
   "source": [
    "plt.figure(figsize=(20, 20))\n",
    "plt.barh(importance_split['Feature Name'].head(100), importance_split['Split'].head(100), color='lightgreen')\n",
    "plt.xlabel('Split')\n",
    "plt.ylabel('Feature')\n",
    "plt.title('Split')\n",
    "plt.show()"
   ]
  },
  {
   "cell_type": "markdown",
   "id": "fe8e2295-611f-4fdc-b68c-7a367e5b14ce",
   "metadata": {},
   "source": [
    "#### 5-Fold Cross-Validation"
   ]
  },
  {
   "cell_type": "code",
   "execution_count": 62,
   "id": "0d015df2-4ba1-4e8c-97b2-6d87d57df5eb",
   "metadata": {},
   "outputs": [
    {
     "name": "stdout",
     "output_type": "stream",
     "text": [
      "Running Fold 1/5\n",
      "Training until validation scores don't improve for 25 rounds\n",
      "Early stopping, best iteration is:\n",
      "[148]\tvalid_0's binary_logloss: 0.507504\n",
      "                 Metric     Value\n",
      "0  Precision (Positive)  0.778662\n",
      "1     Recall (Positive)  0.826014\n",
      "2   F1 Score (Positive)  0.801639\n",
      "3  Precision (Negative)  0.821490\n",
      "4     Recall (Negative)  0.773246\n",
      "5   F1 Score (Negative)  0.796639\n",
      "Running Fold 2/5\n",
      "Training until validation scores don't improve for 25 rounds\n",
      "Early stopping, best iteration is:\n",
      "[145]\tvalid_0's binary_logloss: 0.456165\n",
      "                 Metric     Value\n",
      "0  Precision (Positive)  0.786164\n",
      "1     Recall (Positive)  0.810373\n",
      "2   F1 Score (Positive)  0.798085\n",
      "3  Precision (Negative)  0.794376\n",
      "4     Recall (Negative)  0.768707\n",
      "5   F1 Score (Negative)  0.781331\n",
      "Running Fold 3/5\n",
      "Training until validation scores don't improve for 25 rounds\n",
      "Early stopping, best iteration is:\n",
      "[188]\tvalid_0's binary_logloss: 0.432331\n",
      "                 Metric     Value\n",
      "0  Precision (Positive)  0.774448\n",
      "1     Recall (Positive)  0.806240\n",
      "2   F1 Score (Positive)  0.790024\n",
      "3  Precision (Negative)  0.793345\n",
      "4     Recall (Negative)  0.760067\n",
      "5   F1 Score (Negative)  0.776350\n",
      "Running Fold 4/5\n",
      "Training until validation scores don't improve for 25 rounds\n",
      "Early stopping, best iteration is:\n",
      "[209]\tvalid_0's binary_logloss: 0.453643\n",
      "                 Metric     Value\n",
      "0  Precision (Positive)  0.759259\n",
      "1     Recall (Positive)  0.851211\n",
      "2   F1 Score (Positive)  0.802610\n",
      "3  Precision (Negative)  0.845601\n",
      "4     Recall (Negative)  0.751196\n",
      "5   F1 Score (Negative)  0.795608\n",
      "Running Fold 5/5\n",
      "Training until validation scores don't improve for 25 rounds\n",
      "Early stopping, best iteration is:\n",
      "[244]\tvalid_0's binary_logloss: 0.437304\n",
      "                 Metric     Value\n",
      "0  Precision (Positive)  0.779762\n",
      "1     Recall (Positive)  0.850649\n",
      "2   F1 Score (Positive)  0.813665\n",
      "3  Precision (Negative)  0.827068\n",
      "4     Recall (Negative)  0.748299\n",
      "5   F1 Score (Negative)  0.785714\n",
      "Total Time: 97.44789481163025 seconds\n"
     ]
    }
   ],
   "source": [
    "# Define parameters\n",
    "final_params = {**best_params, **fixed_params}\n",
    "\n",
    "# CV\n",
    "n_splits = 5\n",
    "kf = KFold(n_splits=n_splits, shuffle=True, random_state=42)\n",
    "collect_metric = []\n",
    "X = range(len(merged_undersample))\n",
    "\n",
    "# Splitting the data into features and label\n",
    "features = merged_undersample.drop('overall_label', axis=1)\n",
    "label = merged_undersample['overall_label']\n",
    "\n",
    "start_time = time.time()\n",
    "\n",
    "for fold, (train_idx, val_idx) in enumerate(kf.split(X)):\n",
    "    print(f\"Running Fold {fold + 1}/{n_splits}\")\n",
    "    \n",
    "    # Splitting each feature into training and validation sets\n",
    "    features_train, features_val = features.iloc[train_idx], features.iloc[val_idx]\n",
    "    label_train, label_val = label[train_idx], label[val_idx]\n",
    "\n",
    "    # Split train into train/validation\n",
    "    features_train_nested, features_val_nested, label_train_nested, label_val_nested = train_test_split(\n",
    "        features_train, label_train, test_size=0.1\n",
    "    )\n",
    "\n",
    "    # Setup LGB Dataset\n",
    "    dtrain_nested = lgb.Dataset(features_train_nested, label=label_train_nested, categorical_feature=['sent_score', 'emotion_num'], free_raw_data=False)\n",
    "    dval_nested = lgb.Dataset(features_val_nested, label=label_val_nested, categorical_feature=['sent_score', 'emotion_num'], free_raw_data=False)    \n",
    "\n",
    "    # Train the model\n",
    "    lgb_early_stop = lgb.early_stopping(25)\n",
    "    clf = lgb.train(final_params, dtrain_nested, valid_sets=[dval_nested], num_boost_round=1000, callbacks=[lgb_early_stop])\n",
    "\n",
    "    # Predict\n",
    "    label_pred = clf.predict(features_val)\n",
    "    label_pred_binary = (label_pred >= 0.5).astype(int)\n",
    "    metric = get_metric(label_val, label_pred_binary)\n",
    "    collect_metric.append(metric)\n",
    "\n",
    "total_time = time.time() - start_time\n",
    "print(f\"Total Time: {total_time} seconds\")"
   ]
  },
  {
   "cell_type": "code",
   "execution_count": 63,
   "id": "78f392e6-2734-439f-ad97-2c1ac16daa47",
   "metadata": {},
   "outputs": [
    {
     "data": {
      "text/html": [
       "<div>\n",
       "<style scoped>\n",
       "    .dataframe tbody tr th:only-of-type {\n",
       "        vertical-align: middle;\n",
       "    }\n",
       "\n",
       "    .dataframe tbody tr th {\n",
       "        vertical-align: top;\n",
       "    }\n",
       "\n",
       "    .dataframe thead th {\n",
       "        text-align: right;\n",
       "    }\n",
       "</style>\n",
       "<table border=\"1\" class=\"dataframe\">\n",
       "  <thead>\n",
       "    <tr style=\"text-align: right;\">\n",
       "      <th></th>\n",
       "      <th>Value</th>\n",
       "      <th>Metric</th>\n",
       "    </tr>\n",
       "  </thead>\n",
       "  <tbody>\n",
       "    <tr>\n",
       "      <th>0</th>\n",
       "      <td>0.775659</td>\n",
       "      <td>Precision (Positive)</td>\n",
       "    </tr>\n",
       "    <tr>\n",
       "      <th>1</th>\n",
       "      <td>0.828897</td>\n",
       "      <td>Recall (Positive)</td>\n",
       "    </tr>\n",
       "    <tr>\n",
       "      <th>2</th>\n",
       "      <td>0.801205</td>\n",
       "      <td>F1 Score (Positive)</td>\n",
       "    </tr>\n",
       "    <tr>\n",
       "      <th>3</th>\n",
       "      <td>0.816376</td>\n",
       "      <td>Precision (Negative)</td>\n",
       "    </tr>\n",
       "    <tr>\n",
       "      <th>4</th>\n",
       "      <td>0.760303</td>\n",
       "      <td>Recall (Negative)</td>\n",
       "    </tr>\n",
       "    <tr>\n",
       "      <th>5</th>\n",
       "      <td>0.787128</td>\n",
       "      <td>F1 Score (Negative)</td>\n",
       "    </tr>\n",
       "  </tbody>\n",
       "</table>\n",
       "</div>"
      ],
      "text/plain": [
       "      Value                Metric\n",
       "0  0.775659  Precision (Positive)\n",
       "1  0.828897     Recall (Positive)\n",
       "2  0.801205   F1 Score (Positive)\n",
       "3  0.816376  Precision (Negative)\n",
       "4  0.760303     Recall (Negative)\n",
       "5  0.787128   F1 Score (Negative)"
      ]
     },
     "execution_count": 63,
     "metadata": {},
     "output_type": "execute_result"
    }
   ],
   "source": [
    "comb_metric = pd.concat(collect_metric, axis=0)\n",
    "numeric_cols = comb_metric.select_dtypes(include='number')\n",
    "final_metric = numeric_cols.groupby(numeric_cols.index).mean()\n",
    "final_metric['Metric'] = collect_metric[0]['Metric']\n",
    "final_metric"
   ]
  },
  {
   "cell_type": "code",
   "execution_count": null,
   "id": "0183df14-3967-499e-8800-c2932e8b3218",
   "metadata": {},
   "outputs": [],
   "source": []
  }
 ],
 "metadata": {
  "kernelspec": {
   "display_name": "lonely",
   "language": "python",
   "name": "lonely"
  },
  "language_info": {
   "codemirror_mode": {
    "name": "ipython",
    "version": 3
   },
   "file_extension": ".py",
   "mimetype": "text/x-python",
   "name": "python",
   "nbconvert_exporter": "python",
   "pygments_lexer": "ipython3",
   "version": "3.10.13"
  }
 },
 "nbformat": 4,
 "nbformat_minor": 5
}
