{
 "cells": [
  {
   "cell_type": "code",
   "execution_count": 1,
   "id": "bde17025-6eb0-4fce-94fb-4ec777bfb6d2",
   "metadata": {},
   "outputs": [],
   "source": [
    "import pandas as pd\n",
    "import re\n",
    "\n",
    "from utils.system import *"
   ]
  },
  {
   "cell_type": "code",
   "execution_count": 2,
   "id": "c0ce889b-99af-42a0-a49d-bf2b9b18fa4d",
   "metadata": {},
   "outputs": [],
   "source": [
    "data = pd.read_parquet(get_data() / 'clean_data.parquet.brotli')"
   ]
  },
  {
   "cell_type": "code",
   "execution_count": 7,
   "id": "0e395bea-6cf5-42ce-b7b7-fc961cf0290a",
   "metadata": {},
   "outputs": [],
   "source": [
    "def count_time_references(text):\n",
    "    time_references = re.findall(time_pattern, text, flags=re.IGNORECASE)\n",
    "    return len(time_references)"
   ]
  },
  {
   "cell_type": "code",
   "execution_count": 9,
   "id": "89d6a08c-923a-429d-a4b9-4e78e0b0f4c2",
   "metadata": {},
   "outputs": [],
   "source": [
    "time_pattern = r'\\b(time|day|week|month|year|hour|minute|second)s?\\b'\n",
    "data['time_reference_count'] = data['cleaned_article'].apply(count_time_references)"
   ]
  },
  {
   "cell_type": "code",
   "execution_count": 14,
   "id": "5b10684b-4893-4994-85bd-dd0404a5e0aa",
   "metadata": {},
   "outputs": [],
   "source": [
    "data[['time_reference_count']].to_parquet(get_data() / 'time.parquet.brotli', compression='brotli')"
   ]
  },
  {
   "cell_type": "code",
   "execution_count": null,
   "id": "7c6106ce-2f6c-4867-bec9-3ceb03f4c469",
   "metadata": {},
   "outputs": [],
   "source": []
  }
 ],
 "metadata": {
  "kernelspec": {
   "display_name": "lonely",
   "language": "python",
   "name": "lonely"
  },
  "language_info": {
   "codemirror_mode": {
    "name": "ipython",
    "version": 3
   },
   "file_extension": ".py",
   "mimetype": "text/x-python",
   "name": "python",
   "nbconvert_exporter": "python",
   "pygments_lexer": "ipython3",
   "version": "3.10.13"
  }
 },
 "nbformat": 4,
 "nbformat_minor": 5
}
